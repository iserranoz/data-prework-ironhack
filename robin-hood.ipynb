{
 "cells": [
  {
   "cell_type": "markdown",
   "metadata": {},
   "source": [
    "<img src=\"https://bit.ly/2VnXWr2\" width=\"100\" align=\"left\"/>"
   ]
  },
  {
   "cell_type": "markdown",
   "metadata": {},
   "source": [
    "# Robin Hood\n",
    "Robin Hood has entered a competition to win the archery contest in Sherwood. With his bow and arrows, he needs to shoot on a target and try to hit as close as possible to the center.\n",
    "\n",
    "![](images/arrows.jpg)\n",
    "\n",
    "## Context\n",
    "In this challenge, the landing position of arrows shot by archers in the competition will be represented using 2-dimensional coordinates. \n",
    "\n",
    "In the 2-dimensional space, a point can be defined by a pair of values that correspond to the horizontal coordinate (x) and the vertical coordinate (y). For example, in our case, an arrow that hits the center of the archery target will land in position (0, 0) on the coordinate axes. \n",
    "\n",
    "The space can be divided into 4 zones (quadrants): Q1, Q2, Q3, Q4. If a point is in Q1, both its x coordinate and y coordinate are positive. Any point with a null x or y coordinate is considered to not belong to any quadrant. \n",
    "\n",
    "If you want to know more about the cartesian coordinate system, you can check this [link](https://en.wikipedia.org/wiki/Cartesian_coordinate_system). \n",
    "\n",
    "## Tools\n",
    "You don't necessarily need to use all the tools. Maybe you opt to use some of them or completely different ones, they are given to help you shape the exercise. Programming exercises can be solved in many different ways.\n",
    "* Data structures: **lists, sets, tuples**\n",
    "* Conditional statements: **if-elif-else**\n",
    "* Loop: **while/for**\n",
    "* Minimum (optional sorting)\n",
    "\n",
    "## Tasks\n",
    "Robin Hood has hit the following points:"
   ]
  },
  {
   "cell_type": "code",
   "execution_count": 21,
   "metadata": {},
   "outputs": [],
   "source": [
    "points = [(4, 5), (-0, 2), (4, 7), (1, -3), (3, -2), (4, 5), (3, 2), (5, 7), (-5, 7), (2, 2), (-4, 5), (0, -2),\n",
    "          (-4, 7), (-1, 3), (-3, 2), (-4, -5), (-3, 2), (5, 7), (5, 7), (2, 2), (9, 9), (-8, -9)]"
   ]
  },
  {
   "cell_type": "markdown",
   "metadata": {},
   "source": [
    "#### 1. Robin Hood is famous for hitting an arrow with another arrow. Find the coordinates of the points where an arrow hits another arrow."
   ]
  },
  {
   "cell_type": "code",
   "execution_count": 2,
   "metadata": {},
   "outputs": [
    {
     "name": "stdout",
     "output_type": "stream",
     "text": [
      "Robin Hood hitting an arrow with another arrow (4, 5)\n",
      "Robin Hood hitting an arrow with another arrow (-3, 2)\n",
      "Robin Hood hitting an arrow with another arrow (5, 7)\n",
      "Robin Hood hitting an arrow with another arrow (2, 2)\n"
     ]
    }
   ],
   "source": [
    "r = []\n",
    "u = []\n",
    " \n",
    "for i in points:\n",
    "    if i not in u:\n",
    "        u.append(i)\n",
    "    else:\n",
    "        if i not in r:\n",
    "            r.append(i)\n",
    "for x in r:\n",
    "    print('Robin Hood hitting an arrow with another arrow', x)"
   ]
  },
  {
   "cell_type": "code",
   "execution_count": 3,
   "metadata": {},
   "outputs": [
    {
     "data": {
      "text/plain": [
       "22"
      ]
     },
     "execution_count": 3,
     "metadata": {},
     "output_type": "execute_result"
    }
   ],
   "source": [
    "len(points)"
   ]
  },
  {
   "cell_type": "markdown",
   "metadata": {},
   "source": [
    "#### 2. Calculate how many arrows have fallen in each quadrant. \n",
    "**Note**: the arrows that fall in the axis (x=0 or y=0) don't belong to any quadrant."
   ]
  },
  {
   "cell_type": "code",
   "execution_count": 4,
   "metadata": {},
   "outputs": [],
   "source": [
    "Q1 = []\n",
    "Q2 = []\n",
    "Q3 = []\n",
    "Q4 = []\n",
    "# Q1 +X AND +Y\n",
    "# Q2 +X AND -Y\n",
    "# Q3 -X AND +Y\n",
    "# Q4 -X AND -Y"
   ]
  },
  {
   "cell_type": "code",
   "execution_count": 5,
   "metadata": {},
   "outputs": [],
   "source": [
    "for i in points:\n",
    "    if i[0] > 0 and i[1] >0:\n",
    "        Q1.append(i)\n",
    "    elif i[0] > 0 and i[1] < 0:\n",
    "        Q2.append(i)\n",
    "    elif i[0]< 0 and i[1]>0:\n",
    "        Q3.append(i)\n",
    "    elif i[0] < 0 and i[1] < 0:\n",
    "        Q4.append(i)\n",
    "        "
   ]
  },
  {
   "cell_type": "code",
   "execution_count": 6,
   "metadata": {},
   "outputs": [
    {
     "name": "stdout",
     "output_type": "stream",
     "text": [
      "the arrow fall in (4, 5) quadrant 1\n",
      "the arrow fall in (4, 7) quadrant 1\n",
      "the arrow fall in (4, 5) quadrant 1\n",
      "the arrow fall in (3, 2) quadrant 1\n",
      "the arrow fall in (5, 7) quadrant 1\n",
      "the arrow fall in (2, 2) quadrant 1\n",
      "the arrow fall in (5, 7) quadrant 1\n",
      "the arrow fall in (5, 7) quadrant 1\n",
      "the arrow fall in (2, 2) quadrant 1\n",
      "the arrow fall in (9, 9) quadrant 1\n",
      "the arrow fall in (1, -3) quadrant 2\n",
      "the arrow fall in (3, -2) quadrant 2\n",
      "the arrow fall in (-5, 7) quadrant 3\n",
      "the arrow fall in (-4, 5) quadrant 3\n",
      "the arrow fall in (-4, 7) quadrant 3\n",
      "the arrow fall in (-1, 3) quadrant 3\n",
      "the arrow fall in (-3, 2) quadrant 3\n",
      "the arrow fall in (-3, 2) quadrant 3\n",
      "the arrow fall in (-4, -5) quadrant 4\n",
      "the arrow fall in (-8, -9) quadrant 4\n"
     ]
    }
   ],
   "source": [
    "for i in Q1:\n",
    "    print('the arrow fall in', i, 'quadrant 1')\n",
    "for i in Q2:\n",
    "    print('the arrow fall in', i, 'quadrant 2')\n",
    "for i in Q3:\n",
    "    print('the arrow fall in', i, 'quadrant 3')\n",
    "for i in Q4:\n",
    "    print('the arrow fall in', i, 'quadrant 4')\n"
   ]
  },
  {
   "cell_type": "code",
   "execution_count": 7,
   "metadata": {},
   "outputs": [
    {
     "name": "stdout",
     "output_type": "stream",
     "text": [
      "10 arrows in quadrant 1\n",
      "2 arrows in quadrant 2\n",
      "6 arrows in quadrant 3\n",
      "2 arrows in quadrant 4\n"
     ]
    }
   ],
   "source": [
    "print(len(Q1),'arrows in quadrant 1')\n",
    "print(len(Q2),'arrows in quadrant 2')\n",
    "print(len(Q3),'arrows in quadrant 3')\n",
    "print(len(Q4),'arrows in quadrant 4')"
   ]
  },
  {
   "cell_type": "code",
   "execution_count": null,
   "metadata": {},
   "outputs": [],
   "source": []
  },
  {
   "cell_type": "markdown",
   "metadata": {},
   "source": [
    "#### 3. Find the point closest to the center. Calculate its distance to the center. \n",
    "Take into account that there might be more than one point at the minimum distance to the center.\n",
    "\n",
    "**Hint**: Use the Euclidean distance. You can find more information about it [here](https://en.wikipedia.org/wiki/Euclidean_distance).  \n",
    "**Hint**: Defining a function that calculates the distance to the center can help."
   ]
  },
  {
   "cell_type": "code",
   "execution_count": 24,
   "metadata": {},
   "outputs": [],
   "source": [
    "def EuclideanRobinHood(x2,y2):\n",
    "    z = x2**2\n",
    "    u = y2**2\n",
    "    d = (z + u)**(1/2)\n",
    "    return d\n",
    "    print(d)"
   ]
  },
  {
   "cell_type": "code",
   "execution_count": 25,
   "metadata": {},
   "outputs": [
    {
     "data": {
      "text/plain": [
       "6.4031242374328485"
      ]
     },
     "execution_count": 25,
     "metadata": {},
     "output_type": "execute_result"
    }
   ],
   "source": [
    "EuclideanRobinHood(4,5)"
   ]
  },
  {
   "cell_type": "code",
   "execution_count": 10,
   "metadata": {},
   "outputs": [
    {
     "name": "stdout",
     "output_type": "stream",
     "text": [
      "6.4031242374328485\n",
      "2.0\n",
      "8.06225774829855\n",
      "3.1622776601683795\n",
      "3.605551275463989\n",
      "6.4031242374328485\n",
      "3.605551275463989\n",
      "8.602325267042627\n",
      "8.602325267042627\n",
      "2.8284271247461903\n",
      "6.4031242374328485\n",
      "2.0\n",
      "8.06225774829855\n",
      "3.1622776601683795\n",
      "3.605551275463989\n",
      "6.4031242374328485\n",
      "3.605551275463989\n",
      "8.602325267042627\n",
      "8.602325267042627\n",
      "2.8284271247461903\n",
      "12.727922061357855\n",
      "12.041594578792296\n"
     ]
    }
   ],
   "source": [
    "distances = []\n",
    "for i in points:\n",
    "    distances.append(EuclideanRobinHood(i[0],i[1]))\n",
    "    "
   ]
  },
  {
   "cell_type": "code",
   "execution_count": null,
   "metadata": {},
   "outputs": [],
   "source": []
  },
  {
   "cell_type": "markdown",
   "metadata": {},
   "source": [
    "#### 4. If the archery target has a radius of 9, calculate the number of arrows that won't hit the target. \n",
    "**Hint**: Use the function created in step 3. "
   ]
  },
  {
   "cell_type": "code",
   "execution_count": 30,
   "metadata": {},
   "outputs": [
    {
     "name": "stdout",
     "output_type": "stream",
     "text": [
      "The arrow is out of target 9 9\n",
      "The arrow is out of target -8 -9\n"
     ]
    }
   ],
   "source": [
    "for i in points:\n",
    "    \n",
    "    x,y = i\n",
    "    d = EuclideanRobinHood(x,y)\n",
    "    if d > 9:\n",
    "        print('The arrow is out of target', x , y)"
   ]
  },
  {
   "cell_type": "code",
   "execution_count": 22,
   "metadata": {},
   "outputs": [
    {
     "data": {
      "text/plain": [
       "[(4, 5),\n",
       " (0, 2),\n",
       " (4, 7),\n",
       " (1, -3),\n",
       " (3, -2),\n",
       " (4, 5),\n",
       " (3, 2),\n",
       " (5, 7),\n",
       " (-5, 7),\n",
       " (2, 2),\n",
       " (-4, 5),\n",
       " (0, -2),\n",
       " (-4, 7),\n",
       " (-1, 3),\n",
       " (-3, 2),\n",
       " (-4, -5),\n",
       " (-3, 2),\n",
       " (5, 7),\n",
       " (5, 7),\n",
       " (2, 2),\n",
       " (9, 9),\n",
       " (-8, -9)]"
      ]
     },
     "execution_count": 22,
     "metadata": {},
     "output_type": "execute_result"
    }
   ],
   "source": [
    "points"
   ]
  },
  {
   "cell_type": "code",
   "execution_count": null,
   "metadata": {},
   "outputs": [],
   "source": []
  },
  {
   "cell_type": "code",
   "execution_count": null,
   "metadata": {},
   "outputs": [],
   "source": []
  }
 ],
 "metadata": {
  "kernelspec": {
   "display_name": "Python 3",
   "language": "python",
   "name": "python3"
  },
  "language_info": {
   "codemirror_mode": {
    "name": "ipython",
    "version": 3
   },
   "file_extension": ".py",
   "mimetype": "text/x-python",
   "name": "python",
   "nbconvert_exporter": "python",
   "pygments_lexer": "ipython3",
   "version": "3.7.6"
  }
 },
 "nbformat": 4,
 "nbformat_minor": 2
}
