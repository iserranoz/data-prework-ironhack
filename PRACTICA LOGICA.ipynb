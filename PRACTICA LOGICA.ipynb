{
 "cells": [
  {
   "cell_type": "markdown",
   "metadata": {},
   "source": [
    "# ejercicios artiméticos"
   ]
  },
  {
   "cell_type": "code",
   "execution_count": 2,
   "metadata": {},
   "outputs": [
    {
     "name": "stdout",
     "output_type": "stream",
     "text": [
      "Ingresa el número de horas trabajadas  10\n",
      "Ingresa el costo por hora2\n",
      "Tu pago es de 20.0\n"
     ]
    }
   ],
   "source": [
    "horas = float(input('Ingresa el número de horas trabajadas  '))\n",
    "coste  = float(input('Ingresa el costo por hora'))\n",
    "pago = horas *coste\n",
    "print('Tu pago es de', pago)\n",
    "    \n",
    "              "
   ]
  },
  {
   "cell_type": "code",
   "execution_count": 3,
   "metadata": {},
   "outputs": [
    {
     "data": {
      "text/plain": [
       "45.294117647058826"
      ]
     },
     "execution_count": 3,
     "metadata": {},
     "output_type": "execute_result"
    }
   ],
   "source": [
    "77/1.70"
   ]
  },
  {
   "cell_type": "code",
   "execution_count": 4,
   "metadata": {},
   "outputs": [
    {
     "data": {
      "text/plain": [
       "26.643598615916957"
      ]
     },
     "execution_count": 4,
     "metadata": {},
     "output_type": "execute_result"
    }
   ],
   "source": [
    "77/(1.7**2)"
   ]
  },
  {
   "cell_type": "code",
   "execution_count": 9,
   "metadata": {},
   "outputs": [
    {
     "name": "stdout",
     "output_type": "stream",
     "text": [
      "¿Cúal es tu peso?  80\n",
      "¿Cúal es tu altura en m?  1.9\n",
      "tu IMC es   22.16\n"
     ]
    }
   ],
   "source": [
    "peso = float(input('¿Cúal es tu peso?  '))\n",
    "altura = float(input('¿Cúal es tu altura en m?  '))\n",
    "imc = round(peso/(altura**2),2)\n",
    "print('tu IMC es  ', imc )"
   ]
  },
  {
   "cell_type": "code",
   "execution_count": 13,
   "metadata": {},
   "outputs": [
    {
     "name": "stdout",
     "output_type": "stream",
     "text": [
      "Escribe un número  10\n",
      "Escribe otro numero  3\n",
      "cociente es igual  3 y residuo 1.0\n"
     ]
    }
   ],
   "source": [
    "n = float(input('Escribe un número  '))\n",
    "m = float(input('Escribe otro numero  '))\n",
    "c = int(n/m)\n",
    "r = n%m\n",
    "print('cociente es igual ', c, 'y residuo', r)"
   ]
  },
  {
   "cell_type": "code",
   "execution_count": 11,
   "metadata": {},
   "outputs": [
    {
     "name": "stdout",
     "output_type": "stream",
     "text": [
      "3\n"
     ]
    }
   ],
   "source": [
    "print(c)"
   ]
  },
  {
   "cell_type": "code",
   "execution_count": 12,
   "metadata": {},
   "outputs": [
    {
     "data": {
      "text/plain": [
       "1"
      ]
     },
     "execution_count": 12,
     "metadata": {},
     "output_type": "execute_result"
    }
   ],
   "source": [
    " 5 % 2"
   ]
  },
  {
   "cell_type": "markdown",
   "metadata": {},
   "source": [
    "pregunte al usuario cantidad a invertir. interes porcentual anual y el numero de años y muestre el capital obtenido redondeado con dos decimales"
   ]
  },
  {
   "cell_type": "code",
   "execution_count": 18,
   "metadata": {},
   "outputs": [
    {
     "name": "stdout",
     "output_type": "stream",
     "text": [
      "Ingresa el monto a invertir   1000\n",
      "Ingresa el interés anual 10\n",
      "ingresa el numero de años de inversión   3\n",
      "tu capital ganado es de   331.00000000000045\n"
     ]
    }
   ],
   "source": [
    "cantidad = float(input('Ingresa el monto a invertir   '))\n",
    "interes = float(input('Ingresa el interés anual '))\n",
    "year = float(input('ingresa el numero de años de inversión   '))\n",
    "interes2 = interes/100\n",
    "monto_total = cantidad*((1+interes2)**year)\n",
    "capital = monto_total - cantidad\n",
    "\n",
    "print('tu capital ganado es de  ', capital)\n"
   ]
  },
  {
   "cell_type": "markdown",
   "metadata": {},
   "source": [
    "Una juguetería tiene mucho éxito en dos de sus productos: payasos y muñecas. Suele hacer venta por correo y la empresa de logística les cobra por peso de cada paquete así que deben calcular el peso de los payasos y muñecas que saldrán en cada paquete a demanda. Cada payaso pesa 112 g y cada muñeca 75 g. Escribir un programa que lea el número de payasos y muñecas vendidos en el último pedido y calcule el peso total del paquete que será enviado."
   ]
  },
  {
   "cell_type": "code",
   "execution_count": 19,
   "metadata": {},
   "outputs": [
    {
     "name": "stdout",
     "output_type": "stream",
     "text": [
      "¿Cuantos payasos serán eviados ?  100\n",
      "¿Cuantas muñecas serán eviadas ?  100\n",
      "el peso del paquete es de 18.7 kilogramos\n"
     ]
    }
   ],
   "source": [
    "payasos = float(input('¿Cuantos payasos serán eviados ?  '))\n",
    "muñecas = float(input('¿Cuantas muñecas serán eviadas ?  '))\n",
    "peso = (payasos*112 + muñecas* 75)/1000\n",
    "print('el peso del paquete es de', peso, 'kilogramos')"
   ]
  },
  {
   "cell_type": "markdown",
   "metadata": {},
   "source": [
    "Imagina que acabas de abrir una nueva cuenta de ahorros que te ofrece el 4% de interés al año. Estos ahorros debido a intereses, que no se cobran hasta finales de año, se te añaden al balance final de tu cuenta de ahorros. Escribir un programa que comience leyendo la cantidad de dinero depositada en la cuenta de ahorros, introducida por el usuario. Después el programa debe calcular y mostrar por pantalla la cantidad de ahorros tras el primer, segundo y tercer años. Redondear cada cantidad a dos decimales."
   ]
  },
  {
   "cell_type": "code",
   "execution_count": 24,
   "metadata": {},
   "outputs": [
    {
     "name": "stdout",
     "output_type": "stream",
     "text": [
      "ingresa el monto a invertir   1000\n",
      "tus ahorros son de   1040.0\n",
      "tus ahorros son de   1081.6000000000001\n",
      "tus ahorros son de   1124.864\n"
     ]
    }
   ],
   "source": [
    " inversion = float(input('ingresa el monto a invertir   '))\n",
    "year = 1\n",
    "while year < 4:\n",
    "   \n",
    "    interes = .04\n",
    "    \n",
    "    ahorro = inversion*((1+interes)**year)\n",
    "    year = year + 1\n",
    "    print('tus ahorros son de  ',ahorro)"
   ]
  },
  {
   "cell_type": "markdown",
   "metadata": {},
   "source": [
    "Una panadería vende barras de pan a 3.49$ cada una. El pan que no es el día tiene un descuento del 60%. Escribe un programa que comience leyendo el número de barras vendidas que no son del día. Después tu programa debe mostrar el precio habitual de una barra de pan, el descuento que se le hace por no ser fresca y el coste final total."
   ]
  },
  {
   "cell_type": "code",
   "execution_count": 28,
   "metadata": {},
   "outputs": [
    {
     "name": "stdout",
     "output_type": "stream",
     "text": [
      "¿Cuantas barras que no son de hoy se vendieron ?10\n",
      "el costo de la barra es  3.49\n",
      "el descuento es de 60% 1.3960000000000004\n",
      "los ingreson son de   13.960000000000004\n"
     ]
    }
   ],
   "source": [
    "barras = float(input('¿Cuantas barras que no son de hoy se vendieron ?'  ))\n",
    "costo = float(3.49)\n",
    "desc = .6\n",
    "precio_desc = costo - costo*desc\n",
    "costo_total = barras*precio_desc\n",
    "print('el costo de la barra es ', costo)\n",
    "print('el descuento es de 60%', precio_desc)\n",
    "print('los ingreson son de  ',costo_total)\n"
   ]
  },
  {
   "cell_type": "markdown",
   "metadata": {},
   "source": [
    "Escribir un programa que almacene la cadena de caracteres contraseña en una variable, pregunte al usuario por la contraseña e imprima por pantalla si la contraseña introducida por el usuario coincide con la guardada en la variable sin tener en cuenta mayúsculas y minúsculas."
   ]
  },
  {
   "cell_type": "code",
   "execution_count": 35,
   "metadata": {},
   "outputs": [
    {
     "name": "stdout",
     "output_type": "stream",
     "text": [
      "escribe tu contraseña   HOLA\n",
      "vuelve a escribirla  hola\n",
      "Tu contraseña ha sido guardada hola\n"
     ]
    }
   ],
   "source": [
    "contra1 = str(input('escribe tu contraseña   '))\n",
    "contra2  = str(input('vuelve a escribirla  '))\n",
    "\n",
    "  \n",
    "if contra1.lower() == contra2.lower():\n",
    "    print('Tu contraseña ha sido guardada', contra1.lower())\n",
    "else:\n",
    "    print('contraseña incorrecta')"
   ]
  },
  {
   "cell_type": "markdown",
   "metadata": {},
   "source": [
    "Escribir un programa que pida al usuario dos números y devuelva su división. Si el usuario no introduce números debe devolver un aviso de error y si el divisor es cero también."
   ]
  },
  {
   "cell_type": "code",
   "execution_count": 45,
   "metadata": {},
   "outputs": [
    {
     "name": "stdout",
     "output_type": "stream",
     "text": [
      "Introduce el primer valor   10\n",
      "Introduce el segundo valor  2\n",
      "Error, ZeroDivisionError\n"
     ]
    }
   ],
   "source": [
    "\n",
    "n1 = float(input('Introduce el primer valor   '))\n",
    "n2 = float(input('Introduce el segundo valor  '))\n",
    "if (n1) or (n2) == 0:\n",
    "    print('Error, ZeroDivisionError')\n",
    "else:\n",
    "    result = n1/n2\n",
    "    print(result)\n",
    "\n",
    "     "
   ]
  },
  {
   "cell_type": "code",
   "execution_count": 38,
   "metadata": {},
   "outputs": [
    {
     "ename": "AttributeError",
     "evalue": "'int' object has no attribute 'type'",
     "output_type": "error",
     "traceback": [
      "\u001b[0;31m---------------------------------------------------------------------------\u001b[0m",
      "\u001b[0;31mAttributeError\u001b[0m                            Traceback (most recent call last)",
      "\u001b[0;32m<ipython-input-38-3b534d82111f>\u001b[0m in \u001b[0;36m<module>\u001b[0;34m\u001b[0m\n\u001b[1;32m      1\u001b[0m \u001b[0mx\u001b[0m \u001b[0;34m=\u001b[0m \u001b[0;36m3\u001b[0m\u001b[0;34m\u001b[0m\u001b[0;34m\u001b[0m\u001b[0m\n\u001b[0;32m----> 2\u001b[0;31m \u001b[0mx\u001b[0m\u001b[0;34m.\u001b[0m\u001b[0mtype\u001b[0m\u001b[0;34m\u001b[0m\u001b[0;34m\u001b[0m\u001b[0m\n\u001b[0m",
      "\u001b[0;31mAttributeError\u001b[0m: 'int' object has no attribute 'type'"
     ]
    }
   ],
   "source": [
    "x = 3\n",
    "x.type"
   ]
  },
  {
   "cell_type": "code",
   "execution_count": 47,
   "metadata": {},
   "outputs": [
    {
     "name": "stdout",
     "output_type": "stream",
     "text": [
      "Introduce el primer valor   10\n",
      "Introduce el segundo valor  2\n",
      "5.0\n"
     ]
    }
   ],
   "source": [
    "n1 = float(input('Introduce el primer valor   '))\n",
    "n2 = float(input('Introduce el segundo valor  '))\n",
    "if n1 == 0 or n2 == 0:\n",
    "    print('Error, ZeroDivisionError')\n",
    "else:\n",
    "    result = n1/n2\n",
    "    print(result)"
   ]
  },
  {
   "cell_type": "markdown",
   "metadata": {},
   "source": [
    "Para tributar un determinado impuesto se debe ser mayor de 16 años y tener unos ingresos superiores a 1000 € mensuales. Escribir un programa que pregunte al usuario su edad y sus ingresos mensuales y muestre por pantalla si el usuario tiene que tributar o no."
   ]
  },
  {
   "cell_type": "code",
   "execution_count": 50,
   "metadata": {},
   "outputs": [
    {
     "name": "stdout",
     "output_type": "stream",
     "text": [
      "¿Cuál es tu edad? 20\n",
      "¿Cuales son tus ingresos? 2000\n",
      "Sí tributa\n"
     ]
    }
   ],
   "source": [
    "edad = float(input('¿Cuál es tu edad? '))\n",
    "ingreso = float(input('¿Cuales son tus ingresos? '))\n",
    "if edad > 16 and ingreso > 1000:\n",
    "    print('Sí tributa')\n",
    "else:\n",
    "    print('No tributa')\n"
   ]
  },
  {
   "cell_type": "markdown",
   "metadata": {},
   "source": [
    "Los alumnos de un curso se han dividido en dos grupos A y B de acuerdo al sexo y el nombre. El grupo A esta formado por las mujeres con un nombre anterior a la M y los hombres con un nombre posterior A"
   ]
  },
  {
   "cell_type": "code",
   "execution_count": 11,
   "metadata": {},
   "outputs": [
    {
     "name": "stdout",
     "output_type": "stream",
     "text": [
      "ingresa tu nombre   ARIAM\n",
      "ingresa tu genero: M o H  M\n",
      "Tu grupo es A\n"
     ]
    }
   ],
   "source": [
    "nombre = input('ingresa tu nombre   ')\n",
    "genero = input('ingresa tu genero: M o H  ')\n",
    "\n",
    "if (nombre.lower() < 'm') and (genero == 'M'):\n",
    "    print('Tu grupo es A')\n",
    "elif (nombre.lower() > 'a') and (genero == 'H'):\n",
    "    print('Tu grupo es A')\n",
    "else:\n",
    "    print('tu grupo es B')"
   ]
  },
  {
   "cell_type": "code",
   "execution_count": 1,
   "metadata": {},
   "outputs": [],
   "source": [
    "nombre = 'elisa'"
   ]
  },
  {
   "cell_type": "code",
   "execution_count": 2,
   "metadata": {},
   "outputs": [
    {
     "data": {
      "text/plain": [
       "'e'"
      ]
     },
     "execution_count": 2,
     "metadata": {},
     "output_type": "execute_result"
    }
   ],
   "source": [
    "nombre[0]"
   ]
  },
  {
   "cell_type": "markdown",
   "metadata": {},
   "source": [
    "Escribir un programa para una empresa que tiene salas de juegos para todas las edades y quiere calcular de forma automática el precio que debe cobrar a sus clientes por entrar. El programa debe preguntar al usuario la edad del cliente y mostrar el precio de la entrada. Si el cliente es menor de 4 años puede entrar gratis, si tiene entre 4 y 18 años debe pagar 5€ y si es mayor de 18 años, 10€."
   ]
  },
  {
   "cell_type": "code",
   "execution_count": 15,
   "metadata": {},
   "outputs": [
    {
     "name": "stdout",
     "output_type": "stream",
     "text": [
      "¿Cuál es tu edad?  6\n",
      "El costo de entrada es de 5\n"
     ]
    }
   ],
   "source": [
    "edad = float(input('¿Cuál es tu edad?  '))\n",
    "if edad < 4:\n",
    "    print('Puedes entrar grátis')\n",
    "elif edad < 18:\n",
    "    print('El costo de entrada es de 5')\n",
    "else:\n",
    "    print('el costo de entrada es de 10')\n",
    "    \n",
    "    "
   ]
  },
  {
   "cell_type": "markdown",
   "metadata": {},
   "source": [
    "Escribir un programa que pida al usuario una palabra y la muestre 10 veces por pantalla"
   ]
  },
  {
   "cell_type": "code",
   "execution_count": 17,
   "metadata": {},
   "outputs": [
    {
     "name": "stdout",
     "output_type": "stream",
     "text": [
      " Escribe tu nombre   ivan\n",
      "ivan\n",
      "ivan\n",
      "ivan\n",
      "ivan\n",
      "ivan\n",
      "ivan\n",
      "ivan\n",
      "ivan\n",
      "ivan\n",
      "ivan\n"
     ]
    }
   ],
   "source": [
    "nombre = input(' Escribe tu nombre   ')\n",
    "for i in range(10):\n",
    "    print(nombre)"
   ]
  },
  {
   "cell_type": "markdown",
   "metadata": {},
   "source": [
    "Escribir un programa que pregunte al usuario su edad y muestre por pantalla todos los años que ha cumplido (desde 1 hasta su edad)."
   ]
  },
  {
   "cell_type": "code",
   "execution_count": 25,
   "metadata": {},
   "outputs": [
    {
     "name": "stdout",
     "output_type": "stream",
     "text": [
      "escribe tu edad  5\n",
      "1\n",
      "2\n",
      "3\n",
      "4\n",
      "5\n"
     ]
    }
   ],
   "source": [
    "edad = int(input('escribe tu edad  '))\n",
    "for i in range(1, edad+1):\n",
    "    print(i)\n",
    "    "
   ]
  },
  {
   "cell_type": "markdown",
   "metadata": {},
   "source": [
    "Escribir un programa que pida al usuario un número entero positivo y muestre por pantalla todos los números impares desde 1 hasta ese número separados por comas."
   ]
  },
  {
   "cell_type": "code",
   "execution_count": 31,
   "metadata": {},
   "outputs": [
    {
     "name": "stdout",
     "output_type": "stream",
     "text": [
      "escribe un entero positivo  10\n",
      "1 impar\n",
      "3 impar\n",
      "5 impar\n",
      "7 impar\n",
      "9 impar\n"
     ]
    }
   ],
   "source": [
    "numero = int(input('escribe un entero positivo  '))\n",
    "for i in range(numero):\n",
    "    if i % 2 == 0:\n",
    "        continue\n",
    "    else:\n",
    "        print(i, 'impar')\n",
    "        "
   ]
  },
  {
   "cell_type": "code",
   "execution_count": 32,
   "metadata": {},
   "outputs": [
    {
     "name": "stdout",
     "output_type": "stream",
     "text": [
      "introduce un numero entero positivo  10\n",
      "1,3,5,7,9,"
     ]
    }
   ],
   "source": [
    "n = int(input('introduce un numero entero positivo  '))\n",
    "for i in range(1, n+1, 2):\n",
    "    print(i, end= ',')"
   ]
  },
  {
   "cell_type": "markdown",
   "metadata": {},
   "source": [
    "Escribir un programa que pida al usuario un número entero positivo y muestre por pantalla la cuenta atrás desde ese número hasta cero separados por comas."
   ]
  },
  {
   "cell_type": "code",
   "execution_count": 40,
   "metadata": {},
   "outputs": [
    {
     "name": "stdout",
     "output_type": "stream",
     "text": [
      "escribe un entero positivo  5\n",
      "5,4,3,2,1,0,"
     ]
    }
   ],
   "source": [
    "numero = int(input('escribe un entero positivo  '))\n",
    "for i in range(numero, -1,-1):\n",
    "    print(i, end=',')"
   ]
  },
  {
   "cell_type": "markdown",
   "metadata": {},
   "source": [
    "Escribir un programa que pregunte al usuario una cantidad a invertir, el interés anual y el número de años, y muestre por pantalla el capital obtenido en la inversión cada año que dura la inversión."
   ]
  },
  {
   "cell_type": "code",
   "execution_count": 56,
   "metadata": {},
   "outputs": [
    {
     "name": "stdout",
     "output_type": "stream",
     "text": [
      "ingresa el capital  100\n",
      "ingresa los años de inversión  10\n",
      "ingresa el interés a ganar   10\n",
      "0 año 0.0 capital ganado\n",
      "1 año 10.000000000000014 capital ganado\n",
      "2 año 21.000000000000014 capital ganado\n",
      "3 año 33.10000000000005 capital ganado\n",
      "4 año 46.41000000000005 capital ganado\n",
      "5 año 61.051000000000045 capital ganado\n",
      "6 año 77.1561000000001 capital ganado\n",
      "7 año 94.87171000000012 capital ganado\n",
      "8 año 114.35888100000017 capital ganado\n",
      "9 año 135.7947691000002 capital ganado\n"
     ]
    }
   ],
   "source": [
    "capital = float(input('ingresa el capital  '))\n",
    "años = int(input('ingresa los años de inversión  '))\n",
    "inte = float(input('ingresa el interés a ganar   '))\n",
    "intere = inte/100\n",
    "for i in range(años):\n",
    "    x = capital*((1 + intere)**i)\n",
    "    y = x - capital\n",
    "    print(i,'año', y, 'capital ganado')"
   ]
  },
  {
   "cell_type": "code",
   "execution_count": 58,
   "metadata": {},
   "outputs": [
    {
     "data": {
      "text/plain": [
       "65"
      ]
     },
     "execution_count": 58,
     "metadata": {},
     "output_type": "execute_result"
    }
   ],
   "source": [
    "x = 10\n",
    "for i in range(0,11):\n",
    "    x+= i\n",
    "x"
   ]
  },
  {
   "cell_type": "code",
   "execution_count": 61,
   "metadata": {},
   "outputs": [
    {
     "name": "stdout",
     "output_type": "stream",
     "text": [
      "¿cantidad a invertir?   100\n",
      "¿interés a ganar   10\n",
      "¿Años de inversión?   10\n",
      "capital ganado 110 0  años\n",
      "capital ganado 121 1  años\n",
      "capital ganado 133 2  años\n",
      "capital ganado 146 3  años\n",
      "capital ganado 161 4  años\n",
      "capital ganado 177 5  años\n",
      "capital ganado 195 6  años\n",
      "capital ganado 214 7  años\n",
      "capital ganado 236 8  años\n",
      "capital ganado 259 9  años\n"
     ]
    }
   ],
   "source": [
    "amount = float(input('¿cantidad a invertir?   '))\n",
    "interest = float(input('¿interés a ganar   '))\n",
    "years = int(input('¿Años de inversión?   '))\n",
    "for i in range(years):\n",
    "    amount*= 1 + interest/100\n",
    "    print('capital ganado',round(amount), i,' años')"
   ]
  },
  {
   "cell_type": "code",
   "execution_count": 66,
   "metadata": {},
   "outputs": [
    {
     "name": "stdout",
     "output_type": "stream",
     "text": [
      "introduce la altura  5\n",
      "*\n",
      "**\n",
      "***\n",
      "****\n",
      "*****\n"
     ]
    }
   ],
   "source": [
    "altura = int(input('introduce la altura  '))\n",
    "for i in range(1,altura +1):\n",
    "    i *= '*'\n",
    "    print(i)"
   ]
  },
  {
   "cell_type": "markdown",
   "metadata": {},
   "source": [
    "Escribir un programa que muestre por pantalla la tabla de multiplicar del 1 al 10."
   ]
  },
  {
   "cell_type": "code",
   "execution_count": 72,
   "metadata": {},
   "outputs": [
    {
     "name": "stdout",
     "output_type": "stream",
     "text": [
      "1\t2\t3\t4\t5\t6\t7\t8\t9\t10\t2\t4\t6\t8\t10\t12\t14\t16\t18\t20\t3\t6\t9\t12\t15\t18\t21\t24\t27\t30\t4\t8\t12\t16\t20\t24\t28\t32\t36\t40\t5\t10\t15\t20\t25\t30\t35\t40\t45\t50\t6\t12\t18\t24\t30\t36\t42\t48\t54\t60\t7\t14\t21\t28\t35\t42\t49\t56\t63\t70\t8\t16\t24\t32\t40\t48\t56\t64\t72\t80\t9\t18\t27\t36\t45\t54\t63\t72\t81\t90\t10\t20\t30\t40\t50\t60\t70\t80\t90\t100\t"
     ]
    }
   ],
   "source": [
    "\n",
    "for i in range(1,11):\n",
    "    for j in range(1,11):\n",
    "        print(i*j, end='\\t')\n",
    "    \n"
   ]
  },
  {
   "cell_type": "markdown",
   "metadata": {},
   "source": [
    "Escribir un programa que pida al usuario un número entero y muestre por pantalla un triángulo rectángulo como el de más abajo, de altura el número introducido.\n",
    "\n",
    "1\n",
    "3 1\n",
    "5 3 1\n",
    "7 5 3 1\n",
    "9 7 5 3 1"
   ]
  },
  {
   "cell_type": "code",
   "execution_count": 7,
   "metadata": {},
   "outputs": [
    {
     "name": "stdout",
     "output_type": "stream",
     "text": [
      "Introduce un entero como altura  5\n",
      "1\n",
      "12\n",
      "123\n",
      "1234\n",
      "12345\n"
     ]
    }
   ],
   "source": [
    "altura = int(input('Introduce un entero como altura  '))\n",
    "for i in range(1, altura +1):\n",
    "    for j in range(i):\n",
    "        print(j+1, end='')\n",
    "    print('')"
   ]
  },
  {
   "cell_type": "markdown",
   "metadata": {},
   "source": [
    "Escribir un programa que almacene la cadena de caracteres contraseña en una variable, pregunte al usuario por la contraseña hasta que introduzca la contraseña correcta."
   ]
  },
  {
   "cell_type": "code",
   "execution_count": 88,
   "metadata": {},
   "outputs": [],
   "source": [
    "def contrase():\n",
    "    contra = str(input('introduce tu contraseña  '))\n",
    "    contra2 = str(input('verifica la contraseña '))\n",
    "    while contra != contra2:\n",
    "        contra = str(input('introduce tu contraseña  '))\n",
    "        contra2 = str(input('verifica la contraseña '))\n",
    "    print('acceso concedido')\n"
   ]
  },
  {
   "cell_type": "code",
   "execution_count": 90,
   "metadata": {},
   "outputs": [
    {
     "name": "stdout",
     "output_type": "stream",
     "text": [
      "introduce tu contraseña  jj\n",
      "verifica la contraseña k\n",
      "introduce tu contraseña  jj\n",
      "verifica la contraseña jj\n",
      "acceso concedido\n"
     ]
    }
   ],
   "source": [
    "contrase()"
   ]
  },
  {
   "cell_type": "markdown",
   "metadata": {},
   "source": [
    "Escribir un programa que pida al usuario un número entero positivo mayor que 2 y muestre por pantalla si es un número primo o no."
   ]
  },
  {
   "cell_type": "code",
   "execution_count": 99,
   "metadata": {},
   "outputs": [],
   "source": [
    "def prim():\n",
    "    n = int(input('escribe un numero entero positivo mayor que 2    '))\n",
    "    for i in range(1,n):\n",
    "            if n % i != 0:\n",
    "                print(i)\n",
    "                "
   ]
  },
  {
   "cell_type": "code",
   "execution_count": 100,
   "metadata": {},
   "outputs": [
    {
     "name": "stdout",
     "output_type": "stream",
     "text": [
      "escribe un numero entero positivo mayor que 2    5\n",
      "2\n",
      "3\n",
      "4\n"
     ]
    }
   ],
   "source": [
    "prim()"
   ]
  },
  {
   "cell_type": "markdown",
   "metadata": {},
   "source": [
    "Escribir un programa que pida al usuario una palabra y luego muestre por pantalla una a una las letras de la palabra introducida empezando por la última."
   ]
  },
  {
   "cell_type": "code",
   "execution_count": 118,
   "metadata": {},
   "outputs": [
    {
     "name": "stdout",
     "output_type": "stream",
     "text": [
      "introduce una palabraivan\n",
      "n\n",
      "a\n",
      "v\n",
      "i\n"
     ]
    }
   ],
   "source": [
    "p = str(input('introduce una palabra'))\n",
    "for i in range(len(p)-1,-1,-1):\n",
    "    print(p[i])"
   ]
  },
  {
   "cell_type": "code",
   "execution_count": 104,
   "metadata": {},
   "outputs": [],
   "source": [
    "p = 'ivan'\n"
   ]
  },
  {
   "cell_type": "code",
   "execution_count": 105,
   "metadata": {},
   "outputs": [
    {
     "data": {
      "text/plain": [
       "['i', 'v', 'a', 'n']"
      ]
     },
     "execution_count": 105,
     "metadata": {},
     "output_type": "execute_result"
    }
   ],
   "source": [
    "list(p)"
   ]
  },
  {
   "cell_type": "code",
   "execution_count": 121,
   "metadata": {},
   "outputs": [
    {
     "name": "stdout",
     "output_type": "stream",
     "text": [
      "i\n",
      "v\n",
      "a\n",
      "n\n",
      "e\n",
      "n\n",
      "r\n",
      "i\n",
      "q\n",
      "u\n",
      "e\n",
      "j\n",
      "u\n",
      "a\n",
      "n\n"
     ]
    }
   ],
   "source": [
    "lista = ['ivan', 'enrique', 'juan']\n",
    "for i in lista:\n",
    "    for j in i:\n",
    "        print(j)"
   ]
  },
  {
   "cell_type": "markdown",
   "metadata": {},
   "source": [
    "Escribir un programa en el que se pregunte al usuario por una frase y una letra, y muestre por pantalla el número de veces que aparece la letra en la frase."
   ]
  },
  {
   "cell_type": "code",
   "execution_count": 126,
   "metadata": {},
   "outputs": [
    {
     "name": "stdout",
     "output_type": "stream",
     "text": [
      "escribe un frase   hola mundo\n",
      "escribe una letra   o\n",
      "repeticiones 1\n",
      "repeticiones 2\n"
     ]
    }
   ],
   "source": [
    "f = str(input('escribe un frase   '))\n",
    "l = str(input('escribe una letra   '))\n",
    "count = 0\n",
    "for i in f:\n",
    "     if  i == l:\n",
    "        count = count +1\n",
    "        print('repeticiones', count)"
   ]
  },
  {
   "cell_type": "markdown",
   "metadata": {},
   "source": [
    "Escribir un programa que muestre el eco de todo lo que el usuario introduzca hasta que el usuario escriba “salir” que terminará."
   ]
  },
  {
   "cell_type": "code",
   "execution_count": 135,
   "metadata": {},
   "outputs": [],
   "source": [
    "def eco():\n",
    "    p = str(input('escribe una palabra   '))\n",
    "    while p != 'salir':\n",
    "        for i in p:\n",
    "            print(p)\n",
    "        p = str(input('escribe una palabra   '))\n",
    "    print('adios')"
   ]
  },
  {
   "cell_type": "code",
   "execution_count": 136,
   "metadata": {},
   "outputs": [
    {
     "name": "stdout",
     "output_type": "stream",
     "text": [
      "escribe una palabra   hola\n",
      "hola\n",
      "hola\n",
      "hola\n",
      "hola\n",
      "escribe una palabra   salir\n",
      "adios\n"
     ]
    }
   ],
   "source": [
    "eco()"
   ]
  },
  {
   "cell_type": "markdown",
   "metadata": {},
   "source": [
    "Escribir un programa que almacene las asignaturas de un curso (por ejemplo Matemáticas, Física, Química, Historia y Lengua) en una lista y la muestre por pantalla."
   ]
  },
  {
   "cell_type": "code",
   "execution_count": 139,
   "metadata": {},
   "outputs": [
    {
     "name": "stdout",
     "output_type": "stream",
     "text": [
      "escribe la asignatura    mate\n"
     ]
    },
    {
     "data": {
      "text/plain": [
       "'mate'"
      ]
     },
     "execution_count": 139,
     "metadata": {},
     "output_type": "execute_result"
    }
   ],
   "source": [
    "asign()"
   ]
  },
  {
   "cell_type": "code",
   "execution_count": 140,
   "metadata": {},
   "outputs": [
    {
     "name": "stdout",
     "output_type": "stream",
     "text": [
      "escribe la asignatura    español\n"
     ]
    },
    {
     "data": {
      "text/plain": [
       "'español'"
      ]
     },
     "execution_count": 140,
     "metadata": {},
     "output_type": "execute_result"
    }
   ],
   "source": [
    "asign()"
   ]
  },
  {
   "cell_type": "code",
   "execution_count": 142,
   "metadata": {},
   "outputs": [
    {
     "name": "stdout",
     "output_type": "stream",
     "text": [
      "['mate', 'español', 'ksksk', 'kaka']\n"
     ]
    }
   ],
   "source": [
    "lista = ['mate', 'español', 'ksksk', 'kaka']\n",
    "print(lista)"
   ]
  },
  {
   "cell_type": "markdown",
   "metadata": {},
   "source": [
    "Escribir un programa que almacene las asignaturas de un curso (por ejemplo Matemáticas, Física, Química, Historia y Lengua) en una lista y la muestre por pantalla el mensaje Yo estudio <asignatura>, donde <asignatura> es cada una de las asignaturas de la lista."
   ]
  },
  {
   "cell_type": "code",
   "execution_count": 149,
   "metadata": {},
   "outputs": [
    {
     "name": "stdout",
     "output_type": "stream",
     "text": [
      "yo estudio   matematicas\n",
      "yo estudio   español\n",
      "yo estudio   historia\n"
     ]
    }
   ],
   "source": [
    "lista2 = ['matematicas','español','historia']\n",
    "for i in lista2:\n",
    "    print('yo estudio   ' + i)"
   ]
  },
  {
   "cell_type": "markdown",
   "metadata": {},
   "source": [
    "Escribir un programa que almacene las asignaturas de un curso (por ejemplo Matemáticas, Física, Química, Historia y Lengua) en una lista, pregunte al usuario la nota que ha sacado en cada asignatura, y después las muestre por pantalla con el mensaje En <asignatura> has sacado <nota> donde <asignatura> es cada una des las asignaturas de la lista y <nota> cada una de las correspondientes notas introducidas por el usuario."
   ]
  },
  {
   "cell_type": "code",
   "execution_count": 158,
   "metadata": {},
   "outputs": [
    {
     "name": "stdout",
     "output_type": "stream",
     "text": [
      "escribe tu calificación10\n",
      "escribe tu calificación10\n",
      "escribe tu calificación10\n",
      "matematicas10\n",
      "español10\n",
      "historia10\n"
     ]
    }
   ],
   "source": [
    "m = ['matematicas', 'español', 'historia']\n",
    "caf = []\n",
    "for i in m:\n",
    "    c = input('escribe tu calificación')\n",
    "    caf.append(c)\n",
    "for i in range(len(m)):\n",
    "    print(m[i] + caf[i])\n",
    "    "
   ]
  },
  {
   "cell_type": "markdown",
   "metadata": {},
   "source": [
    "Escribir un programa que pregunte al usuario los números ganadores de la lotería primitiva, los almacene en una lista y los muestre por pantalla ordenados de menor a mayor."
   ]
  },
  {
   "cell_type": "code",
   "execution_count": 163,
   "metadata": {},
   "outputs": [
    {
     "name": "stdout",
     "output_type": "stream",
     "text": [
      "escribe el numero de la loteria  345\n",
      "345\n"
     ]
    }
   ],
   "source": [
    "list_l = []\n",
    "lot = input('escribe el numero de la loteria  ')\n",
    "list_l.append(lot)\n",
    "\n",
    "for i in range(len(list_l)):\n",
    "    print(list_l[i])"
   ]
  },
  {
   "cell_type": "markdown",
   "metadata": {},
   "source": [
    "Escribir un programa que almacene en una lista los números del 1 al 10 y los muestre por pantalla en orden inverso separados por comas."
   ]
  },
  {
   "cell_type": "code",
   "execution_count": 175,
   "metadata": {},
   "outputs": [
    {
     "name": "stdout",
     "output_type": "stream",
     "text": [
      "10\n",
      "9\n",
      "8\n",
      "7\n",
      "6\n",
      "5\n",
      "4\n",
      "3\n",
      "2\n",
      "1\n"
     ]
    }
   ],
   "source": [
    "nums = [1,2,3,4,5,6,7,8,9,10]\n",
    "for i in range(1,11):\n",
    "    print(nums[-i])\n",
    "    "
   ]
  },
  {
   "cell_type": "code",
   "execution_count": 176,
   "metadata": {},
   "outputs": [
    {
     "data": {
      "text/plain": [
       "-10"
      ]
     },
     "execution_count": 176,
     "metadata": {},
     "output_type": "execute_result"
    }
   ],
   "source": []
  },
  {
   "cell_type": "markdown",
   "metadata": {},
   "source": [
    "Escribir un programa que almacene las asignaturas de un curso (por ejemplo Matemáticas, Física, Química, Historia y Lengua) en una lista, pregunte al usuario la nota que ha sacado en cada asignatura y elimine de la lista las asignaturas aprobadas. Al final el programa debe mostrar por pantalla las asignaturas que el usuario tiene que repetir."
   ]
  },
  {
   "cell_type": "code",
   "execution_count": 183,
   "metadata": {},
   "outputs": [
    {
     "name": "stdout",
     "output_type": "stream",
     "text": [
      "cual fue tu calificación en   matematicas10\n",
      "cual fue tu calificación en   historia4\n",
      "cual fue tu calificación en   español7\n",
      "tienes que repetir los elementos de ['historia']\n"
     ]
    }
   ],
   "source": [
    "m2 = ['matematicas', 'historia', 'español']\n",
    "m3 = []\n",
    "for i in m2:\n",
    "    c = int(input('cual fue tu calificación en   '+ i))\n",
    "    if c < 6:\n",
    "        m3.append(i)\n",
    "print('tienes que repetir los elementos de', m3)      "
   ]
  },
  {
   "cell_type": "code",
   "execution_count": 182,
   "metadata": {},
   "outputs": [
    {
     "data": {
      "text/plain": [
       "['español']"
      ]
     },
     "execution_count": 182,
     "metadata": {},
     "output_type": "execute_result"
    }
   ],
   "source": [
    "m3"
   ]
  },
  {
   "cell_type": "code",
   "execution_count": null,
   "metadata": {},
   "outputs": [],
   "source": [
    "subjects = [\"Matemáticas\", \"Física\", \"Química\", \"Historia\", \"Lengua\"]\n",
    "passed = []\n",
    "for subject in subjects:\n",
    "    score = float(input(\"¿Qué nota has sacado en \" + subject + \"?\"))\n",
    "    if score >= 5:\n",
    "        passed.append(subject)\n",
    "for subject in passed:\n",
    "    subjects.remove(subject)\n",
    "print(\"Tienes que repetir \" + str(subjects))"
   ]
  },
  {
   "cell_type": "markdown",
   "metadata": {},
   "source": [
    "Escribir un programa que almacene el abecedario en una lista, elimine de la lista las letras que ocupen posiciones múltiplos de 3, y muestre por pantalla la lista resultante."
   ]
  },
  {
   "cell_type": "code",
   "execution_count": 193,
   "metadata": {},
   "outputs": [],
   "source": [
    "a = ['a','b','c','d','e','f','g','h','i','j','k','l','m','n','o','p','q','r','s','t','u','v','w','x','y','z']"
   ]
  },
  {
   "cell_type": "code",
   "execution_count": 195,
   "metadata": {},
   "outputs": [
    {
     "name": "stdout",
     "output_type": "stream",
     "text": [
      "['b', 'c', 'd', 'f', 'g', 'h', 'j', 'k', 'l', 'n', 'o', 'p', 'r', 's', 't', 'v', 'w', 'x', 'z']\n"
     ]
    }
   ],
   "source": [
    "for i in range(len(a),1):\n",
    "    if i % 3 == 0:\n",
    "        a.pop(i)\n",
    "print(a)      "
   ]
  },
  {
   "cell_type": "code",
   "execution_count": 186,
   "metadata": {},
   "outputs": [
    {
     "data": {
      "text/plain": [
       "26"
      ]
     },
     "execution_count": 186,
     "metadata": {},
     "output_type": "execute_result"
    }
   ],
   "source": [
    "len(a)"
   ]
  },
  {
   "cell_type": "markdown",
   "metadata": {},
   "source": [
    "Escribir un programa que pida al usuario una palabra y muestre por pantalla si es un palíndromo."
   ]
  },
  {
   "cell_type": "code",
   "execution_count": 203,
   "metadata": {},
   "outputs": [
    {
     "name": "stdout",
     "output_type": "stream",
     "text": [
      "escribe una palabra   olo\n",
      "es un palindromo\n"
     ]
    }
   ],
   "source": [
    "p = input('escribe una palabra   ')\n",
    "p2 = p\n",
    "p = list(p)\n",
    "p2 = list(p2)\n",
    "p2.reverse()\n",
    "if p == p2:\n",
    "    print('es un palindromo')\n",
    "else:\n",
    "    print('no es un palindromo')\n",
    "    \n"
   ]
  },
  {
   "cell_type": "code",
   "execution_count": null,
   "metadata": {},
   "outputs": [],
   "source": []
  },
  {
   "cell_type": "code",
   "execution_count": 199,
   "metadata": {},
   "outputs": [],
   "source": [
    "p = 'olo'"
   ]
  },
  {
   "cell_type": "code",
   "execution_count": 200,
   "metadata": {},
   "outputs": [
    {
     "data": {
      "text/plain": [
       "['o', 'l', 'o']"
      ]
     },
     "execution_count": 200,
     "metadata": {},
     "output_type": "execute_result"
    }
   ],
   "source": [
    "list(p)"
   ]
  },
  {
   "cell_type": "markdown",
   "metadata": {},
   "source": [
    "Escribir un programa que pida al usuario una palabra y muestre por pantalla el número de veces que contiene cada vocal."
   ]
  },
  {
   "cell_type": "code",
   "execution_count": 8,
   "metadata": {},
   "outputs": [
    {
     "name": "stdout",
     "output_type": "stream",
     "text": [
      "escribe una palabra ooaa\n",
      "a 2\n",
      "e 0\n",
      "i 0\n",
      "o 2\n",
      "u 0\n"
     ]
    }
   ],
   "source": [
    "v = ['a','e','i','o','u']\n",
    "p = input('escribe una palabra ')\n",
    "for i in v:\n",
    "    times = 0\n",
    "    for j in p:\n",
    "        if i == j:\n",
    "            times += 1\n",
    "    print(i, str(times))\n",
    "            "
   ]
  },
  {
   "cell_type": "markdown",
   "metadata": {},
   "source": [
    "Escribir un programa que almacene en una lista los siguientes precios, 50, 75, 46, 22, 80, 65, 8, y muestre por pantalla el menor y el mayor de los precios"
   ]
  },
  {
   "cell_type": "code",
   "execution_count": 11,
   "metadata": {},
   "outputs": [
    {
     "name": "stdout",
     "output_type": "stream",
     "text": [
      "80\n",
      "8\n"
     ]
    }
   ],
   "source": [
    "nums = [50, 75, 46, 22, 80, 65, 8]\n",
    "print(max(nums))\n",
    "print(min(nums))"
   ]
  },
  {
   "cell_type": "markdown",
   "metadata": {},
   "source": [
    "Escribir un programa que almacene los vectores (1,2,3) y (-1,0,2) en dos tuplas y muestre por pantalla su producto escalar."
   ]
  },
  {
   "cell_type": "code",
   "execution_count": 28,
   "metadata": {},
   "outputs": [],
   "source": [
    "a = (1,2,3)\n",
    "b = (-1,0,2)\n",
    "pe = 0"
   ]
  },
  {
   "cell_type": "code",
   "execution_count": 29,
   "metadata": {},
   "outputs": [
    {
     "name": "stdout",
     "output_type": "stream",
     "text": [
      "5\n"
     ]
    }
   ],
   "source": [
    "for i in range(3):\n",
    "    pe += a[i]*b[i]\n",
    "print(pe)\n",
    "        "
   ]
  },
  {
   "cell_type": "markdown",
   "metadata": {},
   "source": [
    "Escribir un programa que almacene las matrices A=(123,456) B=(-10,01,11) en una tupla y muestre por pantalla su producto. Nota: Para representar matrices mediante tuplas usar tuplas anidadas, representando cada vector fila en una tupla."
   ]
  },
  {
   "cell_type": "code",
   "execution_count": 31,
   "metadata": {},
   "outputs": [],
   "source": [
    "A=((1,2,3),\n",
    "    (4,5,6))\n"
   ]
  },
  {
   "cell_type": "code",
   "execution_count": 32,
   "metadata": {},
   "outputs": [],
   "source": [
    "B=((-1,0,0),(1,1,1))"
   ]
  },
  {
   "cell_type": "code",
   "execution_count": 34,
   "metadata": {},
   "outputs": [
    {
     "name": "stdout",
     "output_type": "stream",
     "text": [
      "1\n",
      "2\n",
      "3\n",
      "4\n",
      "5\n",
      "6\n"
     ]
    }
   ],
   "source": [
    "for i in A:\n",
    "    for j in i:\n",
    "        print(j)"
   ]
  },
  {
   "cell_type": "code",
   "execution_count": 35,
   "metadata": {},
   "outputs": [
    {
     "name": "stdout",
     "output_type": "stream",
     "text": [
      "(2, 5)\n",
      "(2, 11)\n"
     ]
    }
   ],
   "source": [
    "a = ((1, 2, 3),\n",
    "     (4, 5, 6))\n",
    "b = ((-1, 0),\n",
    "     (0, 1),\n",
    "     (1,1))\n",
    "result = [[0,0],\n",
    "          [0,0]]\n",
    "for i in range(len(a)):\n",
    "    for j in range(len(b[0])):\n",
    "        for k in range(len(b)):\n",
    "            result[i][j] += a[i][k] * b[k][j]\n",
    "for i in range(len(result)):\n",
    "    result[i] = tuple(result[i])\n",
    "result = tuple(result)\n",
    "for i in range(len(result)):\n",
    "    print(result[i])"
   ]
  },
  {
   "cell_type": "markdown",
   "metadata": {},
   "source": [
    "Escribir un programa que pregunte por una muestra de números, separados por comas, los guarde en una tupla y muestre por pantalla su media y desviación típica."
   ]
  },
  {
   "cell_type": "code",
   "execution_count": 76,
   "metadata": {},
   "outputs": [
    {
     "name": "stdout",
     "output_type": "stream",
     "text": [
      "introduce numeros    1,2,3,4\n"
     ]
    }
   ],
   "source": [
    "m = input('introduce numeros    ')\n",
    "m = m.split(',')\n",
    "n = len(m)\n",
    "for i in range(n):\n",
    "    m[i] = int(m[i])\n",
    "m = tuple(m)\n",
    "\n",
    "    "
   ]
  },
  {
   "cell_type": "code",
   "execution_count": 77,
   "metadata": {},
   "outputs": [
    {
     "name": "stdout",
     "output_type": "stream",
     "text": [
      "2.5\n"
     ]
    }
   ],
   "source": [
    "media = sum(m)/len(m)\n",
    "print(media)"
   ]
  },
  {
   "cell_type": "code",
   "execution_count": 79,
   "metadata": {},
   "outputs": [],
   "source": [
    "varianza = 0\n",
    "for i in m:\n",
    "    varianza += (i-media)**2\n",
    "    \n",
    "    "
   ]
  },
  {
   "cell_type": "code",
   "execution_count": 80,
   "metadata": {},
   "outputs": [],
   "source": [
    "varianza = varianza/4"
   ]
  },
  {
   "cell_type": "code",
   "execution_count": 81,
   "metadata": {},
   "outputs": [
    {
     "data": {
      "text/plain": [
       "1.118033988749895"
      ]
     },
     "execution_count": 81,
     "metadata": {},
     "output_type": "execute_result"
    }
   ],
   "source": [
    "varianza**(1/2)"
   ]
  },
  {
   "cell_type": "markdown",
   "metadata": {},
   "source": [
    "Escribir un programa que guarde en una variable el diccionario {'Euro':'€', 'Dollar':'$', 'Yen':'¥'}, pregunte al usuario por una divisa y muestre su símbolo o un mensaje de aviso si la divisa no está en el diccionario."
   ]
  },
  {
   "cell_type": "code",
   "execution_count": 82,
   "metadata": {},
   "outputs": [],
   "source": [
    "dic = {'Euro':'€', 'Dollar':'$', 'Yen':'¥'}"
   ]
  },
  {
   "cell_type": "code",
   "execution_count": 85,
   "metadata": {},
   "outputs": [
    {
     "name": "stdout",
     "output_type": "stream",
     "text": [
      "Euro, Dolar, Yen, escoge uno  Euro\n",
      "€\n"
     ]
    }
   ],
   "source": [
    "p = input('Euro, Dolar, Yen, escoge uno  ')\n",
    "\n",
    "print(dic.get(p))"
   ]
  },
  {
   "cell_type": "markdown",
   "metadata": {},
   "source": [
    "Escribir un programa que pregunte al usuario su nombre, edad, dirección y teléfono y lo guarde en un diccionario. Despúes debe mostrar por pantalla el mensaje <nombre> tiene <edad> años, vive en <dirección> y su número de teléfono es <teléfono>."
   ]
  },
  {
   "cell_type": "code",
   "execution_count": 87,
   "metadata": {},
   "outputs": [
    {
     "name": "stdout",
     "output_type": "stream",
     "text": [
      "escribe tu nombre  ivan\n",
      "escribe tu edad  10\n",
      "escribe tu direccion  jsjsjs\n",
      "escribe tu telefono 5757575\n"
     ]
    }
   ],
   "source": [
    "n = input('escribe tu nombre  ')\n",
    "e = input('escribe tu edad  ')\n",
    "d = input('escribe tu direccion  ')\n",
    "t = input('escribe tu telefono ')\n",
    "\n",
    "dic2 = {'nombre': n,'edad': e,'direccion': d,'telefono': t}"
   ]
  },
  {
   "cell_type": "code",
   "execution_count": 88,
   "metadata": {},
   "outputs": [
    {
     "data": {
      "text/plain": [
       "{'nombre': 'ivan', 'edad': '10', 'direccion': 'jsjsjs', 'telefono': '5757575'}"
      ]
     },
     "execution_count": 88,
     "metadata": {},
     "output_type": "execute_result"
    }
   ],
   "source": [
    "dic2"
   ]
  },
  {
   "cell_type": "markdown",
   "metadata": {},
   "source": [
    "Escribir un programa que guarde en un diccionario los precios de las frutas de la tabla, pregunte al usuario por una fruta, un número de kilos y muestre por pantalla el precio de ese número de kilos de fruta. Si la fruta no está en el diccionario debe mostrar un mensaje informando de ello.\n",
    "\n",
    "Fruta\tPrecio\n",
    "Plátano\t1.35\n",
    "Manzana\t0.80\n",
    "Pera\t0.85\n",
    "Naranja\t0.70"
   ]
  },
  {
   "cell_type": "code",
   "execution_count": 89,
   "metadata": {},
   "outputs": [],
   "source": [
    "f = {'platano': 1.35, 'manzana': .80, 'pera':.85, 'naranja': .70}"
   ]
  },
  {
   "cell_type": "code",
   "execution_count": 94,
   "metadata": {},
   "outputs": [
    {
     "name": "stdout",
     "output_type": "stream",
     "text": [
      "escribe una fruta  pera\n",
      "escribe un numero de kilos  10\n",
      "8.5\n"
     ]
    }
   ],
   "source": [
    "p = input('escribe una fruta  ')\n",
    "n = float(input('escribe un numero de kilos  '))\n",
    "x = f.get(p,'la fruta no esta en la lista')\n",
    "y = x*n\n",
    "print(y)"
   ]
  },
  {
   "cell_type": "code",
   "execution_count": 91,
   "metadata": {},
   "outputs": [
    {
     "data": {
      "text/plain": [
       "'5'"
      ]
     },
     "execution_count": 91,
     "metadata": {},
     "output_type": "execute_result"
    }
   ],
   "source": [
    "fruits = {'Plátano':1.35, 'Manzana':0.8, 'Pera':0.85, 'Naranja':0.7}\n",
    "fruit = input('¿Qué fruta quieres? ').title()\n",
    "kg = float(input('¿Cuántos kilos? '))\n",
    "if fruit in fruits:\n",
    "    print(kg, 'kilos de', fruit, 'valen', fruits[fruit]*kg )\n",
    "else: \n",
    "    print(\"Lo siento, la fruta\", fruit, \"no está disponible.\")"
   ]
  },
  {
   "cell_type": "markdown",
   "metadata": {},
   "source": [
    "Escribir un programa que pregunte una fecha en formato dd/mm/aaaa y muestre por pantalla la misma fecha en formato dd de <mes> de aaaa donde <mes> es el nombre del mes."
   ]
  },
  {
   "cell_type": "code",
   "execution_count": 100,
   "metadata": {},
   "outputs": [
    {
     "name": "stdout",
     "output_type": "stream",
     "text": [
      "escribe un día en dos digitos  12\n",
      "escribe un mes en numero dos digitos06\n",
      " escribe un año en 4 digitos2010\n",
      "12 junio 2010\n"
     ]
    }
   ],
   "source": [
    "a = {'01': 'enero', '02': 'febrero', '03': ' marzo', '04': 'abril', '05':'mayo', '06': 'junio'}\n",
    "dia = input('escribe un día en dos digitos  ')\n",
    "mes = input('escribe un mes en numero dos digitos')\n",
    "año = input(' escribe un año en 4 digitos')\n",
    "print(dia, a.get(mes), año)"
   ]
  },
  {
   "cell_type": "code",
   "execution_count": 99,
   "metadata": {},
   "outputs": [
    {
     "name": "stdout",
     "output_type": "stream",
     "text": [
      "enero\n",
      "febrero\n",
      " marzo\n",
      "abril\n",
      "mayo\n",
      "junio\n"
     ]
    }
   ],
   "source": [
    "for i, j in a.items():\n",
    "    print(j)"
   ]
  },
  {
   "cell_type": "markdown",
   "metadata": {},
   "source": [
    "Escribir un programa que almacene el diccionario con los créditos de las asignaturas de un curso {'Matemáticas': 6, 'Física': 4, 'Química': 5} y después muestre por pantalla los créditos de cada asignatura en el formato <asignatura> tiene <créditos> créditos, donde <asignatura> es cada una de las asignaturas del curso, y <créditos> son sus créditos. Al final debe mostrar también el número total de créditos del curso."
   ]
  },
  {
   "cell_type": "code",
   "execution_count": 102,
   "metadata": {},
   "outputs": [
    {
     "name": "stdout",
     "output_type": "stream",
     "text": [
      "asignatura Matemáticas tiene 6 creditos\n",
      "asignatura Física tiene 4 creditos\n",
      "asignatura Química tiene 5 creditos\n"
     ]
    }
   ],
   "source": [
    "asignaturas = {'Matemáticas': 6, 'Física': 4, 'Química': 5}\n",
    "for i, j in asignaturas.items():\n",
    "    print('asignatura ' + i, 'tiene', + j, 'creditos')\n",
    "    "
   ]
  },
  {
   "cell_type": "markdown",
   "metadata": {},
   "source": [
    "scribir un programa que cree un diccionario vacío y lo vaya llenado con información sobre una persona (por ejemplo nombre, edad, sexo, teléfono, correo electrónico, etc.) que se le pida al usuario. Cada vez que se añada un nuevo dato debe imprimirse el contenido del diccionario."
   ]
  },
  {
   "cell_type": "code",
   "execution_count": null,
   "metadata": {},
   "outputs": [],
   "source": [
    "nombre = input('escribe tu nombre  ')\n",
    "edad = float(input('escribe tu edad  '))\n",
    "sexo = input('escribe tu genero, F,M  ')\n",
    "telefono = float(input('escribe tu telefono  '))\n",
    "dic3 = {'nombre': nombre, 'edad': edad, 'sexo': sexo, 'telefono': telefono}"
   ]
  },
  {
   "cell_type": "code",
   "execution_count": 111,
   "metadata": {},
   "outputs": [],
   "source": [
    "def ff():\n",
    "    x = int(input('escribe cuantos registros quieres llenar  '))\n",
    "    for i in range(0,x):\n",
    "        nombre = input('escribe tu nombre  ')\n",
    "        edad = float(input('escribe tu edad  '))\n",
    "        sexo = input('escribe tu genero, F,M  ')\n",
    "        telefono = float(input('escribe tu telefono  '))\n",
    "        dic3 = {'nombre': nombre, 'edad': edad, 'sexo': sexo, 'telefono': telefono}\n",
    "        print(dic3)"
   ]
  },
  {
   "cell_type": "code",
   "execution_count": 112,
   "metadata": {},
   "outputs": [
    {
     "name": "stdout",
     "output_type": "stream",
     "text": [
      "escribe cuantos registros quieres llenar  2\n",
      "escribe tu nombre  ivan\n",
      "escribe tu edad  40\n",
      "escribe tu genero, F,M  F\n",
      "escribe tu telefono  4848484\n",
      "{'nombre': 'ivan', 'edad': 40.0, 'sexo': 'F', 'telefono': 4848484.0}\n",
      "escribe tu nombre  ajsja\n",
      "escribe tu edad  jasja\n"
     ]
    },
    {
     "ename": "ValueError",
     "evalue": "could not convert string to float: 'jasja'",
     "output_type": "error",
     "traceback": [
      "\u001b[0;31m---------------------------------------------------------------------------\u001b[0m",
      "\u001b[0;31mValueError\u001b[0m                                Traceback (most recent call last)",
      "\u001b[0;32m<ipython-input-112-5cdd2d0a6a88>\u001b[0m in \u001b[0;36m<module>\u001b[0;34m\u001b[0m\n\u001b[0;32m----> 1\u001b[0;31m \u001b[0mff\u001b[0m\u001b[0;34m(\u001b[0m\u001b[0;34m)\u001b[0m\u001b[0;34m\u001b[0m\u001b[0;34m\u001b[0m\u001b[0m\n\u001b[0m",
      "\u001b[0;32m<ipython-input-111-dacb33918aec>\u001b[0m in \u001b[0;36mff\u001b[0;34m()\u001b[0m\n\u001b[1;32m      3\u001b[0m     \u001b[0;32mfor\u001b[0m \u001b[0mi\u001b[0m \u001b[0;32min\u001b[0m \u001b[0mrange\u001b[0m\u001b[0;34m(\u001b[0m\u001b[0;36m0\u001b[0m\u001b[0;34m,\u001b[0m\u001b[0mx\u001b[0m\u001b[0;34m)\u001b[0m\u001b[0;34m:\u001b[0m\u001b[0;34m\u001b[0m\u001b[0;34m\u001b[0m\u001b[0m\n\u001b[1;32m      4\u001b[0m         \u001b[0mnombre\u001b[0m \u001b[0;34m=\u001b[0m \u001b[0minput\u001b[0m\u001b[0;34m(\u001b[0m\u001b[0;34m'escribe tu nombre  '\u001b[0m\u001b[0;34m)\u001b[0m\u001b[0;34m\u001b[0m\u001b[0;34m\u001b[0m\u001b[0m\n\u001b[0;32m----> 5\u001b[0;31m         \u001b[0medad\u001b[0m \u001b[0;34m=\u001b[0m \u001b[0mfloat\u001b[0m\u001b[0;34m(\u001b[0m\u001b[0minput\u001b[0m\u001b[0;34m(\u001b[0m\u001b[0;34m'escribe tu edad  '\u001b[0m\u001b[0;34m)\u001b[0m\u001b[0;34m)\u001b[0m\u001b[0;34m\u001b[0m\u001b[0;34m\u001b[0m\u001b[0m\n\u001b[0m\u001b[1;32m      6\u001b[0m         \u001b[0msexo\u001b[0m \u001b[0;34m=\u001b[0m \u001b[0minput\u001b[0m\u001b[0;34m(\u001b[0m\u001b[0;34m'escribe tu genero, F,M  '\u001b[0m\u001b[0;34m)\u001b[0m\u001b[0;34m\u001b[0m\u001b[0;34m\u001b[0m\u001b[0m\n\u001b[1;32m      7\u001b[0m         \u001b[0mtelefono\u001b[0m \u001b[0;34m=\u001b[0m \u001b[0mfloat\u001b[0m\u001b[0;34m(\u001b[0m\u001b[0minput\u001b[0m\u001b[0;34m(\u001b[0m\u001b[0;34m'escribe tu telefono  '\u001b[0m\u001b[0;34m)\u001b[0m\u001b[0;34m)\u001b[0m\u001b[0;34m\u001b[0m\u001b[0;34m\u001b[0m\u001b[0m\n",
      "\u001b[0;31mValueError\u001b[0m: could not convert string to float: 'jasja'"
     ]
    }
   ],
   "source": [
    "ff()\n"
   ]
  },
  {
   "cell_type": "code",
   "execution_count": 113,
   "metadata": {},
   "outputs": [
    {
     "name": "stdout",
     "output_type": "stream",
     "text": [
      "¿Qué dato quieres introducir? hola\n",
      "hola: 100\n",
      "{'hola': '100'}\n",
      "¿Quieres añadir más información (Si/No)? No\n"
     ]
    }
   ],
   "source": [
    "person = {}\n",
    "more = 'Si'\n",
    "while more=='Si':\n",
    "    key = input('¿Qué dato quieres introducir? ')\n",
    "    value = input(key + ': ')\n",
    "    person[key] = value\n",
    "    print(person)\n",
    "    more = input('¿Quieres añadir más información (Si/No)? ')"
   ]
  },
  {
   "cell_type": "markdown",
   "metadata": {},
   "source": [
    "Escribir un programa que cree un diccionario simulando una cesta de la compra. El programa debe preguntar el artículo y su precio y añadir el par al diccionario, hasta que el usuario decida terminar. Después se debe mostrar por pantalla la lista de la compra y el coste total, con el siguiente formato\n",
    "\n",
    "Lista de la compra\t\n",
    "Artículo 1\tPrecio\n",
    "Artículo 2\tPrecio\n",
    "Artículo 3\tPrecio\n",
    "...\t...\n",
    "Total\tCoste"
   ]
  },
  {
   "cell_type": "code",
   "execution_count": 123,
   "metadata": {},
   "outputs": [],
   "source": [
    "compra = {}\n",
    "def carrito():\n",
    "    more = 'si'\n",
    "    while more == 'si':\n",
    "        key = input('¿Qué artículo quieres comprar  ')\n",
    "        price = input('¿Cual es su precio? ')\n",
    "        compra[key]= price\n",
    "        print(compra)\n",
    "        more = input('¿Cotinuamos, si/no ')"
   ]
  },
  {
   "cell_type": "code",
   "execution_count": 124,
   "metadata": {},
   "outputs": [
    {
     "name": "stdout",
     "output_type": "stream",
     "text": [
      "¿Qué artículo quieres comprar  manzana\n",
      "¿Cual es su precio? 10\n",
      "{'manzana': '10'}\n",
      "¿Cotinuamos, si/no no\n"
     ]
    }
   ],
   "source": [
    "carrito()"
   ]
  },
  {
   "cell_type": "markdown",
   "metadata": {},
   "source": []
  },
  {
   "cell_type": "markdown",
   "metadata": {},
   "source": [
    "Escribir un programa que cree un diccionario de traducción español-inglés. El usuario introducirá las palabras en español e inglés separadas por dos puntos, y cada par <palabra>:<traducción> separados por comas. El programa debe crear un diccionario con las palabras y sus traducciones. Después pedirá una frase en español y utilizará el diccionario para traducirla palabra a palabra. Si una palabra no está en el diccionario debe dejarla sin traducir."
   ]
  },
  {
   "cell_type": "code",
   "execution_count": 5,
   "metadata": {},
   "outputs": [],
   "source": [
    "dic4 = {}\n",
    "def esp ():\n",
    "    more = 'si'\n",
    "    while more == 'si':\n",
    "        key = input('Escribe la palabra en español')\n",
    "        trad = input('Escribe su traducción')\n",
    "        dic4[key] = trad\n",
    "        print(dic4)\n",
    "        more = input('¿Cotinuamos, si/no ')"
   ]
  },
  {
   "cell_type": "code",
   "execution_count": 6,
   "metadata": {},
   "outputs": [
    {
     "name": "stdout",
     "output_type": "stream",
     "text": [
      "Escribe la palabra en españolhola\n",
      "Escribe su traducciónhello\n",
      "{'hola': 'hello'}\n",
      "¿Cotinuamos, si/no si\n",
      "Escribe la palabra en españolmundo\n",
      "Escribe su traducciónworld\n",
      "{'hola': 'hello', 'mundo': 'world'}\n",
      "¿Cotinuamos, si/no si\n",
      "Escribe la palabra en españolsoy\n",
      "Escribe su traduccióni'm\n",
      "{'hola': 'hello', 'mundo': 'world', 'soy': \"i'm\"}\n",
      "¿Cotinuamos, si/no si\n",
      "Escribe la palabra en españolivan\n",
      "Escribe su traducciónivan\n",
      "{'hola': 'hello', 'mundo': 'world', 'soy': \"i'm\", 'ivan': 'ivan'}\n",
      "¿Cotinuamos, si/no no\n"
     ]
    }
   ],
   "source": [
    "esp()\n"
   ]
  },
  {
   "cell_type": "code",
   "execution_count": 12,
   "metadata": {},
   "outputs": [],
   "source": [
    "def traduc():\n",
    "    p = input('escribe una frase   ')\n",
    "    for i in p.split():\n",
    "        if i in dic4:\n",
    "            print(dic4[i], end=' ')"
   ]
  },
  {
   "cell_type": "code",
   "execution_count": 13,
   "metadata": {},
   "outputs": [
    {
     "name": "stdout",
     "output_type": "stream",
     "text": [
      "escribe una frase   hola mundo soy ivan\n",
      "hello world i'm ivan "
     ]
    }
   ],
   "source": [
    "traduc()"
   ]
  },
  {
   "cell_type": "markdown",
   "metadata": {},
   "source": [
    "Escribir un programa que gestione las facturas pendientes de cobro de una empresa. Las facturas se almacenarán en un diccionario donde la clave de cada factura será el número de factura y el valor el coste de la factura. El programa debe preguntar al usuario si quiere añadir una nueva factura, pagar una existente o terminar. Si desea añadir una nueva factura se preguntará por el número de factura y su coste y se añadirá al diccionario. Si se desea pagar una factura se preguntará por el número de factura y se eliminará del diccionario. Después de cada operación el programa debe mostrar por pantalla la cantidad cobrada hasta el momento y la cantidad pendiente de cobro."
   ]
  },
  {
   "cell_type": "code",
   "execution_count": 21,
   "metadata": {},
   "outputs": [],
   "source": [
    "factura = {}\n"
   ]
  },
  {
   "cell_type": "code",
   "execution_count": 30,
   "metadata": {},
   "outputs": [],
   "source": [
    "factura = {}\n",
    "def pago():\n",
    "    a = True\n",
    "    while a == True:\n",
    "        a = input('¿Quieres, añadir, pagar, terminar?   ')\n",
    "        if a == 'terminar':\n",
    "            a = False\n",
    "        elif a == 'añadir':\n",
    "            fac = input('añade numero de factura   ')\n",
    "            price = input('añade precio de la factura   ')\n",
    "            factura[fac] = price\n",
    "            print(factura)\n",
    "            a = True\n",
    "        elif a == 'pagar':\n",
    "            fac2 = input('escribe el numero de factura')\n",
    "            del factura[fac2]\n",
    "            print(factura)\n",
    "            a = True\n",
    "    for i in factura:\n",
    "        print('falta por pagar ' + i + ' ' + str(factura[i]))\n",
    "\n",
    "        "
   ]
  },
  {
   "cell_type": "code",
   "execution_count": 32,
   "metadata": {},
   "outputs": [
    {
     "name": "stdout",
     "output_type": "stream",
     "text": [
      "¿Quieres, añadir, pagar, terminar?   añadir\n",
      "añade numero de factura   1111\n",
      "añade precio de la factura   9000\n",
      "{'1111': '9000'}\n",
      "¿Quieres, añadir, pagar, terminar?   añadir\n",
      "añade numero de factura   9090\n",
      "añade precio de la factura   500\n",
      "{'1111': '9000', '9090': '500'}\n",
      "¿Quieres, añadir, pagar, terminar?   terminar\n",
      "falta por pagar 1111 9000\n",
      "falta por pagar 9090 500\n"
     ]
    }
   ],
   "source": [
    "pago()"
   ]
  },
  {
   "cell_type": "markdown",
   "metadata": {},
   "source": [
    "Escribir un programa que permita gestionar la base de datos de clientes de una empresa. Los clientes se guardarán en un diccionario en el que la clave de cada cliente será su NIF, y el valor será otro diccionario con los datos del cliente (nombre, dirección, teléfono, correo, preferente), donde preferente tendrá el valor True si se trata de un cliente preferente. El programa debe preguntar al usuario por una opción del siguiente menú: (1) Añadir cliente, (2) Eliminar cliente, (3) Mostrar cliente, (4) Listar todos los clientes, (5) Listar clientes preferentes, (6) Terminar. En función de la opción elegida el programa tendrá que hacer lo siguiente:\n",
    "\n",
    "Preguntar los datos del cliente, crear un diccionario con los datos y añadirlo a la base de datos.\n",
    "Preguntar por el NIF del cliente y eliminar sus datos de la base de datos.\n",
    "Preguntar por el NIF del cliente y mostrar sus datos.\n",
    "Mostrar lista de todos los clientes de la base datos con su NIF y nombre.\n",
    "Mostrar la lista de clientes preferentes de la base de datos con su NIF y nombre.\n",
    "Terminar el programa."
   ]
  },
  {
   "cell_type": "code",
   "execution_count": 37,
   "metadata": {},
   "outputs": [],
   "source": [
    "clientes = {'33': {'nombre': 'ivan', 'direccion': '33dig,345,brisas', 'telefono': '89898989', 'correo':'hshs@jjsjs',\n",
    "                   'preferente': True}}\n",
    "def dbc():\n",
    "    v = True\n",
    "    while v == True:\n",
    "        v = input('estas son las opciones: añadir cliente, elminar cliente, mostrar cliente, listar clientes,listar preferentes, terminar')\n",
    "        if v == 'añadir cliente':\n",
    "            NIF = input('¿Cual es su NIF?  ')\n",
    "            nombre = input('¿Cual es su nombre?  ')\n",
    "            direccion = input('¿Cual es su dirección?  ')\n",
    "            telefono = input('¿Cual es su telefono?  ')\n",
    "            correo = input('¿Cual es su correo?  ')\n",
    "            preferente =  input('¿es preferente si/no?  ')\n",
    "            if preferente == 'si':\n",
    "                preferente = True\n",
    "            else:\n",
    "                preferente = False\n",
    "            cliente = {'nombre': nombre, 'direccion': direccion, 'telefono': telefono, 'correo': correo, 'preferente': preferente}\n",
    "            clientes[NIF] = cliente\n",
    "        elif v == 'eliminar cliente':\n",
    "            NIF = input('¿Cual es su NIF?  ')\n",
    "            del clientes[NIF]\n",
    "            v = True\n",
    "        elif v == 'mostrar cliente':\n",
    "            NIF = input('¿Cual es la NIF del cliente?  ')\n",
    "            print(clientes[NIF])\n",
    "            v = True\n",
    "        elif v == 'listar clientes':\n",
    "            for i in clientes:\n",
    "                print(clientes[i])\n",
    "                v = True\n",
    "        elif v == 'listar preferentes':\n",
    "            v = True\n",
    "            for i, x in clientes.items():\n",
    "                if value[True]:\n",
    "                    print(i, x['nombre'])\n",
    "        else:\n",
    "            v = False\n",
    "        \n",
    "           \n",
    "            \n",
    "              \n",
    "            \n",
    "    "
   ]
  },
  {
   "cell_type": "code",
   "execution_count": 38,
   "metadata": {},
   "outputs": [
    {
     "name": "stdout",
     "output_type": "stream",
     "text": [
      "estas son las opciones: añadir cliente, elminar cliente, mostrar cliente, listar clientes,listar preferentes, terminarañadir cliente\n",
      "¿Cual es su NIF?  33\n",
      "¿Cual es su nombre?  braulio\n",
      "¿Cual es su dirección?  jahdahsd\n",
      "¿Cual es su telefono?  sjhajdhajsd\n",
      "¿Cual es su correo?  ahjadshja\n",
      "¿es preferente si/no?  si\n"
     ]
    }
   ],
   "source": [
    "dbc()"
   ]
  },
  {
   "cell_type": "code",
   "execution_count": 39,
   "metadata": {},
   "outputs": [
    {
     "data": {
      "text/plain": [
       "{'33': {'nombre': 'braulio',\n",
       "  'direccion': 'jahdahsd',\n",
       "  'telefono': 'sjhajdhajsd',\n",
       "  'correo': 'ahjadshja',\n",
       "  'preferente': True}}"
      ]
     },
     "execution_count": 39,
     "metadata": {},
     "output_type": "execute_result"
    }
   ],
   "source": [
    "clientes"
   ]
  },
  {
   "cell_type": "markdown",
   "metadata": {},
   "source": [
    "[14:53, 10/7/2020] Braulio Data: Escribir una función que muestre por pantalla el saludo ¡Hola amiga! cada vez que se la invoque.\n",
    "[14:53, 10/7/2020] Braulio Data: Escribir una función a la que se le pase una cadena <nombre> y muestre por pantalla el saludo ¡hola <nombre>!."
   ]
  },
  {
   "cell_type": "code",
   "execution_count": 43,
   "metadata": {},
   "outputs": [],
   "source": [
    "def saludo():\n",
    "    \"\"\" esta función saluda\"\"\"\n",
    "    print('hola amigo/a')\n",
    "def saludo2():\n",
    "    \"\"\" esta función pide un input y lo imprime junto con el string hola\"\"\"\n",
    "    n = input('introduce tu nombre')\n",
    "    print('hola ' + str(n))"
   ]
  },
  {
   "cell_type": "code",
   "execution_count": 44,
   "metadata": {},
   "outputs": [
    {
     "name": "stdout",
     "output_type": "stream",
     "text": [
      "hola amigo/a\n"
     ]
    }
   ],
   "source": [
    "saludo()\n"
   ]
  },
  {
   "cell_type": "code",
   "execution_count": 45,
   "metadata": {},
   "outputs": [
    {
     "name": "stdout",
     "output_type": "stream",
     "text": [
      "introduce tu nombreivan\n",
      "hola ivan\n"
     ]
    }
   ],
   "source": [
    "saludo2()"
   ]
  },
  {
   "cell_type": "markdown",
   "metadata": {},
   "source": [
    "Escribir una función que reciba un número entero positivo y devuelva su factorial."
   ]
  },
  {
   "cell_type": "code",
   "execution_count": 58,
   "metadata": {},
   "outputs": [],
   "source": [
    "def facto(n):\n",
    "    '''funcion factorial devuelve'''\n",
    "    x = 1\n",
    "    for i in range(n):\n",
    "        x *= i+1\n",
    "    print(x)\n",
    "        "
   ]
  },
  {
   "cell_type": "code",
   "execution_count": 59,
   "metadata": {},
   "outputs": [
    {
     "name": "stdout",
     "output_type": "stream",
     "text": [
      "6\n"
     ]
    }
   ],
   "source": [
    "facto(3)"
   ]
  },
  {
   "cell_type": "markdown",
   "metadata": {},
   "source": [
    "Escribir una función que calcule el total de una factura tras aplicarle el IVA. La función debe recibir la cantidad sin IVA y el porcentaje de IVA a aplicar, y devolver el total de la factura. Si se invoca la función sin pasarle el porcentaje de IVA, deberá aplicar un 21%."
   ]
  },
  {
   "cell_type": "code",
   "execution_count": 3,
   "metadata": {},
   "outputs": [],
   "source": [
    "def IVA(monto,iva=21):\n",
    "    '''esta función devuelve el monto de una factura con IVA'''\n",
    "    '''Recibe un monto sin iva'''\n",
    "    '''RECIBE EL PORCENTAJE DE iva'''\n",
    "    '''devuelve el total a pagar con IVA'''\n",
    "    iva = iva/100\n",
    "    total = monto + monto*iva\n",
    "    return total"
   ]
  },
  {
   "cell_type": "code",
   "execution_count": 5,
   "metadata": {},
   "outputs": [
    {
     "data": {
      "text/plain": [
       "116.0"
      ]
     },
     "execution_count": 5,
     "metadata": {},
     "output_type": "execute_result"
    }
   ],
   "source": [
    "IVA(100,16)"
   ]
  },
  {
   "cell_type": "markdown",
   "metadata": {},
   "source": [
    "escribir una función que calcule el área de un círculo y otra que calcule el volumen de un cilindro usando la primera función"
   ]
  },
  {
   "cell_type": "code",
   "execution_count": 8,
   "metadata": {},
   "outputs": [],
   "source": [
    "def area(r):\n",
    "    a = 3.1416*(r)**2\n",
    "    return a\n",
    "def cil(a, altura):\n",
    "    b = a*altura\n",
    "    return b"
   ]
  },
  {
   "cell_type": "code",
   "execution_count": 9,
   "metadata": {},
   "outputs": [
    {
     "data": {
      "text/plain": [
       "1178.1"
      ]
     },
     "execution_count": 9,
     "metadata": {},
     "output_type": "execute_result"
    }
   ],
   "source": [
    "cil(area(5),15)\n"
   ]
  },
  {
   "cell_type": "code",
   "execution_count": null,
   "metadata": {},
   "outputs": [],
   "source": [
    "def circle_area(radius):\n",
    "    \"\"\"Función que calcula el area de un círculo.\n",
    "    Parámetros\n",
    "    radius: Es el radio del círculo.\n",
    "    Devuelve el área del círculo de radio radius. \n",
    "    \"\"\"\n",
    "    pi = 3.1415\n",
    "    return 2*pi*radius**2\n",
    "\n",
    "def cilinder_volume(radius, high):\n",
    "    \"\"\"Función que calcula el volumen de un cilindro.\n",
    "    Parámetros\n",
    "    radius: Es el radio de la base del cilindro.\n",
    "    high: Es la altura del cilindro.\n",
    "    Devuelve el volumen del clindro de radio radius y altura high.\n",
    "    \"\"\"\n",
    "    return circle_area(radius)*high"
   ]
  },
  {
   "cell_type": "markdown",
   "metadata": {},
   "source": [
    "Escribir una función que reciba una muestra de números en una lista y devuelva su media"
   ]
  },
  {
   "cell_type": "code",
   "execution_count": 3,
   "metadata": {},
   "outputs": [],
   "source": [
    "nums = [2,3,5,3,5,6,5,5,6,6,8,9,10]\n",
    "def med(x):\n",
    "    #esta función saca la media de un conjunto de datos de una lista\n",
    "    # recibe un input que es una lista\n",
    "    # devuelve la media del conjunto de datos\n",
    "    r = sum(x)/len(x)\n",
    "    return r"
   ]
  },
  {
   "cell_type": "code",
   "execution_count": 4,
   "metadata": {},
   "outputs": [
    {
     "data": {
      "text/plain": [
       "5.615384615384615"
      ]
     },
     "execution_count": 4,
     "metadata": {},
     "output_type": "execute_result"
    }
   ],
   "source": [
    "med(nums)"
   ]
  },
  {
   "cell_type": "markdown",
   "metadata": {},
   "source": [
    "Escribir una función que reciba una muestra de números en una lista y devuelva otra lista con sus cuadrados."
   ]
  },
  {
   "cell_type": "code",
   "execution_count": 9,
   "metadata": {},
   "outputs": [],
   "source": [
    "nums2 = [2,4,5,3,7]\n",
    "def cuad(y):\n",
    "    # esta función eleva al cuadrado los elementos de un conjunto de datos\n",
    "    # recibe como parámetro una lista\n",
    "    # devuelve una lista con los valores al cuadrado de la primera lista\n",
    "    c = []\n",
    "    for i in y:\n",
    "        c.append(i**2)\n",
    "    print(c)\n",
    "        "
   ]
  },
  {
   "cell_type": "code",
   "execution_count": 10,
   "metadata": {},
   "outputs": [
    {
     "name": "stdout",
     "output_type": "stream",
     "text": [
      "[4, 16, 25, 9, 49]\n"
     ]
    }
   ],
   "source": [
    "cuad(nums2)"
   ]
  },
  {
   "cell_type": "markdown",
   "metadata": {},
   "source": [
    "Escribir una función que reciba una muestra de números en una lista y devuelva un diccionario con su media, varianza y desviación típica."
   ]
  },
  {
   "cell_type": "code",
   "execution_count": 27,
   "metadata": {},
   "outputs": [],
   "source": [
    "def fnc(o):\n",
    "    dic6 = {}\n",
    "    r= med(o)\n",
    "    dic6['media'] = r\n",
    "    v = 0\n",
    "    for i in o:\n",
    "        v += (i -r)**2\n",
    "    dic6['varianza'] = v\n",
    "    dic6['desviación'] = v**(1/2)\n",
    "    print(dic6)\n",
    "        \n",
    "    \n",
    "\n"
   ]
  },
  {
   "cell_type": "code",
   "execution_count": 28,
   "metadata": {},
   "outputs": [
    {
     "name": "stdout",
     "output_type": "stream",
     "text": [
      "{'media': 4.714285714285714, 'varianza': 15.428571428571427, 'desviación': 3.9279220242478625}\n"
     ]
    }
   ],
   "source": [
    "p = [2,4,5,6,4,5,7]\n",
    "fnc(p)"
   ]
  },
  {
   "cell_type": "markdown",
   "metadata": {},
   "source": [
    "Escribir una función que calcule el máximo común divisor de dos números y otra que calcule el mínimo común múltiplo."
   ]
  },
  {
   "cell_type": "code",
   "execution_count": 54,
   "metadata": {},
   "outputs": [],
   "source": [
    "def mcd(n1,n2):\n",
    "    mc = []\n",
    "    for i in range(1,n1+1):\n",
    "            if n1 % i == 0 and n2 % i == 0:\n",
    "                mc.append(i)\n",
    "    print(max(mc))  \n",
    "\n",
    "            \n",
    "            \n",
    "    "
   ]
  },
  {
   "cell_type": "code",
   "execution_count": 55,
   "metadata": {},
   "outputs": [
    {
     "name": "stdout",
     "output_type": "stream",
     "text": [
      "3\n"
     ]
    }
   ],
   "source": [
    "mcd(3,9)"
   ]
  },
  {
   "cell_type": "code",
   "execution_count": 69,
   "metadata": {},
   "outputs": [],
   "source": [
    "def mcm(n1,n2):\n",
    "    greater = 0\n",
    "    if n2 > ni:\n",
    "        greater = n2\n",
    "    else:\n",
    "        greater = n1\n",
    "    while greater % n2 != 0 or greater % n1 !=0:\n",
    "        greater =+1"
   ]
  },
  {
   "cell_type": "code",
   "execution_count": 70,
   "metadata": {},
   "outputs": [
    {
     "name": "stdout",
     "output_type": "stream",
     "text": [
      "[2, 3, 4, 6, 6, 9]\n"
     ]
    }
   ],
   "source": [
    "mcm(2,3)"
   ]
  },
  {
   "cell_type": "markdown",
   "metadata": {},
   "source": [
    "Escribir un programa que reciba una cadena de caracteres y devuelva un diccionario con cada palabra que contiene y su frecuencia. Escribir otra función que reciba el diccionario generado con la función anterior y devuelva una tupla con la palabra más repetida y su frecuencia."
   ]
  },
  {
   "cell_type": "code",
   "execution_count": 104,
   "metadata": {},
   "outputs": [],
   "source": [
    "def ult(y):\n",
    "    dic9 = {}\n",
    "    y = y.split()\n",
    "    for i in y:\n",
    "        if i in dic9:\n",
    "            dic9[i] += 1\n",
    "        else:\n",
    "            dic9[i] = 1\n",
    "    return dic9\n",
    "\n",
    "\n",
    "def buscm(l):\n",
    "    f = 0\n",
    "    w = ''\n",
    "    fr = []\n",
    "    wr = []\n",
    "    for w,f in l.items():\n",
    "        wr.append(w)\n",
    "        fr.append(f)\n",
    "    h = max(fr)\n",
    "    m = fr.index(h)\n",
    "    p = wr[m]\n",
    "    q = p,h\n",
    "    return q\n",
    "        \n",
    "        \n",
    "        \n",
    "    \n",
    "    \n",
    "    "
   ]
  },
  {
   "cell_type": "code",
   "execution_count": 106,
   "metadata": {},
   "outputs": [
    {
     "data": {
      "text/plain": [
       "('hola', 3)"
      ]
     },
     "execution_count": 106,
     "metadata": {},
     "output_type": "execute_result"
    }
   ],
   "source": [
    "txt = 'hola mundo hola rapido mundo hola'\n",
    "n = ult(txt)\n",
    "a = buscm(n)\n",
    "a"
   ]
  },
  {
   "cell_type": "code",
   "execution_count": 109,
   "metadata": {},
   "outputs": [
    {
     "name": "stdout",
     "output_type": "stream",
     "text": [
      "Introduce la contraseña: se\n",
      "No pasa\n"
     ]
    }
   ],
   "source": [
    "contraseña = input('Introduce la contraseña: ')\n",
    "\n",
    "if contraseña in ['sesamo']:\n",
    "    print('Pasa')\n",
    "else:\n",
    "    print('No pasa')"
   ]
  },
  {
   "cell_type": "code",
   "execution_count": 121,
   "metadata": {},
   "outputs": [
    {
     "name": "stdout",
     "output_type": "stream",
     "text": [
      "Introduce la base imponible de la factura: 100\n"
     ]
    },
    {
     "data": {
      "text/plain": [
       "121.0"
      ]
     },
     "execution_count": 121,
     "metadata": {},
     "output_type": "execute_result"
    }
   ],
   "source": [
    "\n",
    "\n",
    "def aplica_iva(base, iva = 21):\n",
    "    iva = iva/100\n",
    "    total = base + (base * iva)  \n",
    "    return total \n",
    "base = int(input('Introduce la base imponible de la factura: '))\n",
    "aplica_iva(base)"
   ]
  },
  {
   "cell_type": "markdown",
   "metadata": {},
   "source": [
    "#Detectar y corregir los errores del siguiente programa que calcula el producto escalar de dos vectores:\n",
    "u = (1, 2, 3)\n",
    "v = (4, 5, 6)\n",
    " \n",
    "def producto_escalar(u, v):\n",
    "    for i in u:\n",
    "        u[i] *= v[i]\n",
    "    return sum(u)\n",
    " \n",
    "print(producto_escalar(u, v))"
   ]
  },
  {
   "cell_type": "code",
   "execution_count": 25,
   "metadata": {},
   "outputs": [],
   "source": [
    "u = (1, 2, 3)\n",
    "v = (4, 5, 6)\n",
    "\n",
    "def producto_escalar(u, v):\n",
    "    p = 0\n",
    "    for i in range(3):\n",
    "        p += u[i] * v[i]\n",
    "    print(p)\n",
    "        \n",
    "    \n",
    "   \n"
   ]
  },
  {
   "cell_type": "code",
   "execution_count": 26,
   "metadata": {},
   "outputs": [
    {
     "name": "stdout",
     "output_type": "stream",
     "text": [
      "32\n"
     ]
    }
   ],
   "source": [
    "producto_escalar(u, v)"
   ]
  },
  {
   "cell_type": "code",
   "execution_count": 29,
   "metadata": {},
   "outputs": [],
   "source": [
    "a = ((1, 2, 3),\n",
    "     (3, 2, 1))\n",
    "b = ((1, 2),\n",
    "     (3, 4),\n",
    "     (5, 6))\n",
    "\n",
    " \n",
    "def producto(a, b):\n",
    "    producto =  [[0,0],\n",
    "          [0,0]]\n",
    "    for i in range(len(a)): \n",
    "        for j in range(len(b[0])):\n",
    "            for k in range(len(b)):\n",
    "                suma += a[i][k] * b[k+1][j]\n",
    "    for i in range(len(producto)):\n",
    "        producto[i] = tuple(producto[i])\n",
    "    producto = tuple(producto)\n",
    "    for i in range(len(producto)):\n",
    "        print(producto[i])\n",
    "    print(producto(a, b))"
   ]
  },
  {
   "cell_type": "code",
   "execution_count": 32,
   "metadata": {},
   "outputs": [
    {
     "name": "stdout",
     "output_type": "stream",
     "text": [
      "{'Juan': 123456789}\n"
     ]
    }
   ],
   "source": [
    "listin = {'Juan':123456789, 'Pedro':987654321}\n",
    "\n",
    "def elimina(listin, usuario):\n",
    "    del listin[usuario]\n",
    "    return listin\n",
    "\n",
    "print(elimina(listin, 'Pedro'))\n"
   ]
  },
  {
   "cell_type": "markdown",
   "metadata": {},
   "source": [
    "Escribir una función que aplique un descuento a un precio y otra que aplique el IVA a un precio. Escribir una tercera función que reciba un diccionario con los precios y porcentajes de una cesta de la compra, y una de las funciones anteriores, y utilice la función pasada para aplicar los descuentos o el IVA a los productos de la cesta y devolver el precio final de la cesta.\n"
   ]
  },
  {
   "cell_type": "markdown",
   "metadata": {},
   "source": [
    "Escribir una función que simule una calculadora científica que permita calcular el seno, coseno, tangente, exponencial y logaritmo neperiano. La función preguntará al usuario el valor y la función a aplicar, y mostrará por pantalla una tabla con los enteros de 1 al valor introducido y el resultado de aplicar la función a esos enteros.\n"
   ]
  },
  {
   "cell_type": "code",
   "execution_count": 39,
   "metadata": {},
   "outputs": [],
   "source": [
    "from math import sin, cos, tan, exp, log\n",
    "def calcu():\n",
    "    '''Esta función no recibe parametros iniciales, calcula el seno, coseno, tangete, y exponencial'''\n",
    "    '''recibe dos inputs que son valor y función a realizar'''\n",
    "    '''returna el valor resulto'''\n",
    "    print('Bienvenido a la calculadora trigonometrica')\n",
    "    x = 0\n",
    "    y = True\n",
    "    while y == True:\n",
    "        valor = int(input('intoduce el valor   '))\n",
    "        op = input('introduce la operación a realizar, seno, coseno, tangente, exponencial o logaritmo neperiano   ')\n",
    "        if op == 'seno':\n",
    "            x = sin(valor)\n",
    "            y = False\n",
    "        elif op =='coseno':\n",
    "            x = cos(valor)\n",
    "            y = False\n",
    "        elif op == 'tangente':\n",
    "            x = tan(valor)\n",
    "            y = False\n",
    "        elif op == 'exponencial':\n",
    "            x = exp(valor)\n",
    "            y = False\n",
    "        elif op == 'logaritmo neperiano':\n",
    "            x = log(valor)\n",
    "            y = False\n",
    "        else:\n",
    "            y = True\n",
    "            print('intenta de nuevo')\n",
    "    print('Tu resultado es ', x)\n",
    "    \n",
    "        \n",
    "    "
   ]
  },
  {
   "cell_type": "code",
   "execution_count": 40,
   "metadata": {},
   "outputs": [
    {
     "name": "stdout",
     "output_type": "stream",
     "text": [
      "Bienvenido a la calculadora trigonometrica\n",
      "intoduce el valor   1\n",
      "introduce la operación a realizar, seno, coseno, tangente, exponencial o logaritmo neperiano   logaritmo neperiano\n",
      "Tu resultado es  0.0\n"
     ]
    }
   ],
   "source": [
    "\n",
    "calcu()"
   ]
  },
  {
   "cell_type": "markdown",
   "metadata": {},
   "source": [
    "Escribir una función que reciba otra función y una lista, y devuelva otra lista con el resultado de aplicar la función dada a cada uno de los elementos de la lista."
   ]
  },
  {
   "cell_type": "code",
   "execution_count": 51,
   "metadata": {},
   "outputs": [],
   "source": [
    "n34 = [2,4,6,8]\n",
    "def rf(funcion,lista):\n",
    "    lista2 = [] \n",
    "    for i in lista:\n",
    "        lista2.append(funcion(i))\n",
    "    return lista2\n",
    "def cuadradolista(n):\n",
    "    return n**2\n"
   ]
  },
  {
   "cell_type": "code",
   "execution_count": 54,
   "metadata": {},
   "outputs": [
    {
     "data": {
      "text/plain": [
       "[4, 16, 36, 64]"
      ]
     },
     "execution_count": 54,
     "metadata": {},
     "output_type": "execute_result"
    }
   ],
   "source": [
    "rf(cuadradolista,[2,4,6,8])"
   ]
  },
  {
   "cell_type": "markdown",
   "metadata": {},
   "source": [
    "Escribir una función que reciba otra función booleana y una lista, y devuelva otra lista con los elementos de la lista que devuelvan True al aplicarles la función booleana.\n"
   ]
  },
  {
   "cell_type": "code",
   "execution_count": 56,
   "metadata": {},
   "outputs": [],
   "source": [
    "def bol2(funcion,lista):\n",
    "    listav = []\n",
    "    for i in lista:\n",
    "        listav.append(bol1(i))\n",
    "    return listav\n",
    "def bol1(n):\n",
    "    return n < 10\n",
    "    "
   ]
  },
  {
   "cell_type": "code",
   "execution_count": 58,
   "metadata": {},
   "outputs": [
    {
     "data": {
      "text/plain": [
       "[True, True, True]"
      ]
     },
     "execution_count": 58,
     "metadata": {},
     "output_type": "execute_result"
    }
   ],
   "source": [
    "bol2(bol1,[2,3,4])"
   ]
  },
  {
   "cell_type": "markdown",
   "metadata": {},
   "source": [
    "Escribir una función que reciba una frase y devuelva un diccionario con las palabras que contiene y su longitud.\n"
   ]
  },
  {
   "cell_type": "code",
   "execution_count": 63,
   "metadata": {},
   "outputs": [],
   "source": [
    "def dic():\n",
    "    frase = input('ingresa un frase     ')\n",
    "    frase = frase.split()\n",
    "    dicv = {}\n",
    "    for i in frase:\n",
    "        dicv[i] = len(i)\n",
    "    return dicv\n",
    "    "
   ]
  },
  {
   "cell_type": "code",
   "execution_count": 64,
   "metadata": {},
   "outputs": [
    {
     "name": "stdout",
     "output_type": "stream",
     "text": [
      "ingresa un frase     hola mundo como estan\n"
     ]
    },
    {
     "data": {
      "text/plain": [
       "{'hola': 4, 'mundo': 5, 'como': 4, 'estan': 5}"
      ]
     },
     "execution_count": 64,
     "metadata": {},
     "output_type": "execute_result"
    }
   ],
   "source": [
    "dic()"
   ]
  },
  {
   "cell_type": "markdown",
   "metadata": {},
   "source": [
    "Escribir una función reciba una lista de materias y devuelva la lista de calificaciones correspondientes a esas materias.\n"
   ]
  },
  {
   "cell_type": "code",
   "execution_count": 65,
   "metadata": {},
   "outputs": [],
   "source": [
    "import random\n",
    "caf = [5,7,8,9,10]\n",
    "def calificador(materias):\n",
    "    calif = {}\n",
    "    for i in materias:\n",
    "        calif[i] = random.choice(caf)\n",
    "    return calif"
   ]
  },
  {
   "cell_type": "code",
   "execution_count": 66,
   "metadata": {},
   "outputs": [
    {
     "data": {
      "text/plain": [
       "{'mate': 10, 'español': 5, 'ciencias': 10}"
      ]
     },
     "execution_count": 66,
     "metadata": {},
     "output_type": "execute_result"
    }
   ],
   "source": [
    "calificador(['mate', 'español', 'ciencias'])"
   ]
  },
  {
   "cell_type": "markdown",
   "metadata": {},
   "source": [
    "Escribir una función reciba un diccionario con la las asignaturas y las notas de un alumno y devuelva otro diccionario con las asignaturas en mayúsculas y las calificaciones correspondientes a las notas.\n"
   ]
  },
  {
   "cell_type": "code",
   "execution_count": 67,
   "metadata": {},
   "outputs": [],
   "source": [
    "def esc(diccionario):\n",
    "    dicn = {}\n",
    "    for i,j in diccionario.items():\n",
    "        dicn[i.upper()] = j\n",
    "    return dicn\n",
    "        "
   ]
  },
  {
   "cell_type": "code",
   "execution_count": 68,
   "metadata": {},
   "outputs": [
    {
     "data": {
      "text/plain": [
       "{'MATE': 9, 'ESPAÑOL': 7, 'CIENCIAS': 8}"
      ]
     },
     "execution_count": 68,
     "metadata": {},
     "output_type": "execute_result"
    }
   ],
   "source": [
    "esc({'mate': 9, 'español': 7, 'ciencias': 8})"
   ]
  },
  {
   "cell_type": "markdown",
   "metadata": {},
   "source": [
    "Una inmobiliaria de una ciudad maneja una lista de inmuebles como la siguiente:\n",
    "[{'año': 2000, 'metros': 100, 'habitaciones': 3, 'garaje': True, 'zona': 'A'}, {'año': 2012, 'metros': 60, 'habitaciones': 2, 'garaje': True, 'zona': 'B'}, {'año': 1980, 'metros': 120, 'habitaciones': 4, 'garaje': False, 'zona': 'A'}, {'año': 2005, 'metros': 75, 'habitaciones': 3, 'garaje': True, 'zona': 'B'}, {'año': 2015, 'metros': 90, 'habitaciones': 2, 'garaje': False, 'zona': 'A'}]\n",
    "Construir una función que permita hacer búsqueda de inmuebles en función de un presupuesto dado. La función recibirá como entrada la lista de inmuebles y un precio, y devolverá otra lista con los inmuebles cuyo precio sea menor o igual que el dado. Los inmuebles de la lista que se devuelva deben incorporar un nuevo par a cada diccionario con el precio del inmueble, donde el precio de un inmueble se calcula con las siguiente fórmula en función de la zona:\n",
    "Zona A: precio = (metros x 1000 + habitaciones x 5000 + garaje x 15000) x (1 - antiguedad / 100) Zona B: precio = (metros x 1000 + habitaciones x 5000 + garaje x 15000) x (1 - antiguedad / 100) x 1.5\n"
   ]
  },
  {
   "cell_type": "code",
   "execution_count": 69,
   "metadata": {},
   "outputs": [],
   "source": [
    "def price(inmuebles):\n",
    "    inmuebles2 = {}\n",
    "    precio = (inmuebles['metros']*1000 + inmuebles['habitaciones']*5000 + int(piso['garage'] *15000 ) * \n",
    "              (1-inmuebles)/inmuebles['año'])\n",
    "    if inmuebles['zona'] == 'B':\n",
    "        precio = precio * 1.5\n",
    "    return precio\n",
    "    \n",
    "       \n",
    "    "
   ]
  },
  {
   "cell_type": "markdown",
   "metadata": {},
   "source": [
    "11\n",
    "Escribir una función que reciba una muestra de números y devuelva los valores atípicos, es decir, los valores cuya puntuación típica sea mayor que 3 o menor que -3. Nota: La puntuación típica de un valor se obtiene restando la media y dividiendo por la desviación típica de la muestra.\n"
   ]
  },
  {
   "cell_type": "code",
   "execution_count": 78,
   "metadata": {},
   "outputs": [],
   "source": [
    "from statistics import mean, stdev\n",
    "def atip(lista):\n",
    "    atipicos = []\n",
    "    z = 0\n",
    "    for i in lista:\n",
    "        z = (i - mean(lista))/stdev(lista)\n",
    "        if abs(z > 3):\n",
    "            atipicos.append(i)\n",
    "    return atipicos\n",
    "            \n",
    "            \n",
    "            "
   ]
  },
  {
   "cell_type": "code",
   "execution_count": 81,
   "metadata": {},
   "outputs": [
    {
     "data": {
      "text/plain": [
       "[45]"
      ]
     },
     "execution_count": 81,
     "metadata": {},
     "output_type": "execute_result"
    }
   ],
   "source": [
    "atip([3,5,5,5,5,5,5,7,7,7,7,6,23,5,45])"
   ]
  },
  {
   "cell_type": "code",
   "execution_count": null,
   "metadata": {},
   "outputs": [],
   "source": []
  },
  {
   "cell_type": "code",
   "execution_count": null,
   "metadata": {},
   "outputs": [],
   "source": []
  },
  {
   "cell_type": "code",
   "execution_count": null,
   "metadata": {},
   "outputs": [],
   "source": []
  },
  {
   "cell_type": "code",
   "execution_count": null,
   "metadata": {},
   "outputs": [],
   "source": []
  },
  {
   "cell_type": "code",
   "execution_count": null,
   "metadata": {},
   "outputs": [],
   "source": []
  },
  {
   "cell_type": "code",
   "execution_count": null,
   "metadata": {},
   "outputs": [],
   "source": []
  },
  {
   "cell_type": "code",
   "execution_count": null,
   "metadata": {},
   "outputs": [],
   "source": []
  }
 ],
 "metadata": {
  "kernelspec": {
   "display_name": "Python 3",
   "language": "python",
   "name": "python3"
  },
  "language_info": {
   "codemirror_mode": {
    "name": "ipython",
    "version": 3
   },
   "file_extension": ".py",
   "mimetype": "text/x-python",
   "name": "python",
   "nbconvert_exporter": "python",
   "pygments_lexer": "ipython3",
   "version": "3.7.6"
  }
 },
 "nbformat": 4,
 "nbformat_minor": 4
}
